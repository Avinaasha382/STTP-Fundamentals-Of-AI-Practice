{
 "cells": [
  {
   "cell_type": "code",
   "execution_count": 1,
   "id": "8341cb0c-4caa-46ec-b818-7f5afacedb17",
   "metadata": {},
   "outputs": [],
   "source": [
    "import pandas as pd\n",
    "import numpy as np\n",
    "import matplotlib.pyplot as plt\n",
    "import math"
   ]
  },
  {
   "cell_type": "code",
   "execution_count": 2,
   "id": "70bc0b7c-f1f2-462f-b5c7-aa68c1d92135",
   "metadata": {},
   "outputs": [
    {
     "data": {
      "text/html": [
       "<div>\n",
       "<style scoped>\n",
       "    .dataframe tbody tr th:only-of-type {\n",
       "        vertical-align: middle;\n",
       "    }\n",
       "\n",
       "    .dataframe tbody tr th {\n",
       "        vertical-align: top;\n",
       "    }\n",
       "\n",
       "    .dataframe thead th {\n",
       "        text-align: right;\n",
       "    }\n",
       "</style>\n",
       "<table border=\"1\" class=\"dataframe\">\n",
       "  <thead>\n",
       "    <tr style=\"text-align: right;\">\n",
       "      <th></th>\n",
       "      <th>sepal.length</th>\n",
       "      <th>sepal.width</th>\n",
       "      <th>petal.length</th>\n",
       "      <th>petal.width</th>\n",
       "      <th>variety</th>\n",
       "    </tr>\n",
       "  </thead>\n",
       "  <tbody>\n",
       "    <tr>\n",
       "      <th>0</th>\n",
       "      <td>5.1</td>\n",
       "      <td>3.5</td>\n",
       "      <td>1.4</td>\n",
       "      <td>0.2</td>\n",
       "      <td>Setosa</td>\n",
       "    </tr>\n",
       "    <tr>\n",
       "      <th>1</th>\n",
       "      <td>4.9</td>\n",
       "      <td>3.0</td>\n",
       "      <td>1.4</td>\n",
       "      <td>0.2</td>\n",
       "      <td>Setosa</td>\n",
       "    </tr>\n",
       "    <tr>\n",
       "      <th>2</th>\n",
       "      <td>4.7</td>\n",
       "      <td>3.2</td>\n",
       "      <td>1.3</td>\n",
       "      <td>0.2</td>\n",
       "      <td>Setosa</td>\n",
       "    </tr>\n",
       "    <tr>\n",
       "      <th>3</th>\n",
       "      <td>4.6</td>\n",
       "      <td>3.1</td>\n",
       "      <td>1.5</td>\n",
       "      <td>0.2</td>\n",
       "      <td>Setosa</td>\n",
       "    </tr>\n",
       "    <tr>\n",
       "      <th>4</th>\n",
       "      <td>5.0</td>\n",
       "      <td>3.6</td>\n",
       "      <td>1.4</td>\n",
       "      <td>0.2</td>\n",
       "      <td>Setosa</td>\n",
       "    </tr>\n",
       "    <tr>\n",
       "      <th>...</th>\n",
       "      <td>...</td>\n",
       "      <td>...</td>\n",
       "      <td>...</td>\n",
       "      <td>...</td>\n",
       "      <td>...</td>\n",
       "    </tr>\n",
       "    <tr>\n",
       "      <th>145</th>\n",
       "      <td>6.7</td>\n",
       "      <td>3.0</td>\n",
       "      <td>5.2</td>\n",
       "      <td>2.3</td>\n",
       "      <td>Virginica</td>\n",
       "    </tr>\n",
       "    <tr>\n",
       "      <th>146</th>\n",
       "      <td>6.3</td>\n",
       "      <td>2.5</td>\n",
       "      <td>5.0</td>\n",
       "      <td>1.9</td>\n",
       "      <td>Virginica</td>\n",
       "    </tr>\n",
       "    <tr>\n",
       "      <th>147</th>\n",
       "      <td>6.5</td>\n",
       "      <td>3.0</td>\n",
       "      <td>5.2</td>\n",
       "      <td>2.0</td>\n",
       "      <td>Virginica</td>\n",
       "    </tr>\n",
       "    <tr>\n",
       "      <th>148</th>\n",
       "      <td>6.2</td>\n",
       "      <td>3.4</td>\n",
       "      <td>5.4</td>\n",
       "      <td>2.3</td>\n",
       "      <td>Virginica</td>\n",
       "    </tr>\n",
       "    <tr>\n",
       "      <th>149</th>\n",
       "      <td>5.9</td>\n",
       "      <td>3.0</td>\n",
       "      <td>5.1</td>\n",
       "      <td>1.8</td>\n",
       "      <td>Virginica</td>\n",
       "    </tr>\n",
       "  </tbody>\n",
       "</table>\n",
       "<p>150 rows × 5 columns</p>\n",
       "</div>"
      ],
      "text/plain": [
       "     sepal.length  sepal.width  petal.length  petal.width    variety\n",
       "0             5.1          3.5           1.4          0.2     Setosa\n",
       "1             4.9          3.0           1.4          0.2     Setosa\n",
       "2             4.7          3.2           1.3          0.2     Setosa\n",
       "3             4.6          3.1           1.5          0.2     Setosa\n",
       "4             5.0          3.6           1.4          0.2     Setosa\n",
       "..            ...          ...           ...          ...        ...\n",
       "145           6.7          3.0           5.2          2.3  Virginica\n",
       "146           6.3          2.5           5.0          1.9  Virginica\n",
       "147           6.5          3.0           5.2          2.0  Virginica\n",
       "148           6.2          3.4           5.4          2.3  Virginica\n",
       "149           5.9          3.0           5.1          1.8  Virginica\n",
       "\n",
       "[150 rows x 5 columns]"
      ]
     },
     "execution_count": 2,
     "metadata": {},
     "output_type": "execute_result"
    }
   ],
   "source": [
    "df = pd.read_csv(\"iris.csv\")  #reading the iris.csv file\n",
    "df"
   ]
  },
  {
   "cell_type": "code",
   "execution_count": 3,
   "id": "6cc1f0d4-5066-4065-97e1-c76cf7cd3788",
   "metadata": {},
   "outputs": [
    {
     "data": {
      "text/html": [
       "<div>\n",
       "<style scoped>\n",
       "    .dataframe tbody tr th:only-of-type {\n",
       "        vertical-align: middle;\n",
       "    }\n",
       "\n",
       "    .dataframe tbody tr th {\n",
       "        vertical-align: top;\n",
       "    }\n",
       "\n",
       "    .dataframe thead th {\n",
       "        text-align: right;\n",
       "    }\n",
       "</style>\n",
       "<table border=\"1\" class=\"dataframe\">\n",
       "  <thead>\n",
       "    <tr style=\"text-align: right;\">\n",
       "      <th></th>\n",
       "      <th>petal.length</th>\n",
       "      <th>petal.width</th>\n",
       "    </tr>\n",
       "  </thead>\n",
       "  <tbody>\n",
       "    <tr>\n",
       "      <th>0</th>\n",
       "      <td>1.4</td>\n",
       "      <td>0.2</td>\n",
       "    </tr>\n",
       "    <tr>\n",
       "      <th>1</th>\n",
       "      <td>1.4</td>\n",
       "      <td>0.2</td>\n",
       "    </tr>\n",
       "    <tr>\n",
       "      <th>2</th>\n",
       "      <td>1.3</td>\n",
       "      <td>0.2</td>\n",
       "    </tr>\n",
       "    <tr>\n",
       "      <th>3</th>\n",
       "      <td>1.5</td>\n",
       "      <td>0.2</td>\n",
       "    </tr>\n",
       "    <tr>\n",
       "      <th>4</th>\n",
       "      <td>1.4</td>\n",
       "      <td>0.2</td>\n",
       "    </tr>\n",
       "    <tr>\n",
       "      <th>5</th>\n",
       "      <td>1.7</td>\n",
       "      <td>0.4</td>\n",
       "    </tr>\n",
       "    <tr>\n",
       "      <th>6</th>\n",
       "      <td>1.4</td>\n",
       "      <td>0.3</td>\n",
       "    </tr>\n",
       "    <tr>\n",
       "      <th>7</th>\n",
       "      <td>1.5</td>\n",
       "      <td>0.2</td>\n",
       "    </tr>\n",
       "    <tr>\n",
       "      <th>8</th>\n",
       "      <td>1.4</td>\n",
       "      <td>0.2</td>\n",
       "    </tr>\n",
       "    <tr>\n",
       "      <th>9</th>\n",
       "      <td>1.5</td>\n",
       "      <td>0.1</td>\n",
       "    </tr>\n",
       "    <tr>\n",
       "      <th>10</th>\n",
       "      <td>1.5</td>\n",
       "      <td>0.2</td>\n",
       "    </tr>\n",
       "    <tr>\n",
       "      <th>11</th>\n",
       "      <td>1.6</td>\n",
       "      <td>0.2</td>\n",
       "    </tr>\n",
       "    <tr>\n",
       "      <th>12</th>\n",
       "      <td>1.4</td>\n",
       "      <td>0.1</td>\n",
       "    </tr>\n",
       "    <tr>\n",
       "      <th>13</th>\n",
       "      <td>1.1</td>\n",
       "      <td>0.1</td>\n",
       "    </tr>\n",
       "    <tr>\n",
       "      <th>14</th>\n",
       "      <td>1.2</td>\n",
       "      <td>0.2</td>\n",
       "    </tr>\n",
       "    <tr>\n",
       "      <th>15</th>\n",
       "      <td>1.5</td>\n",
       "      <td>0.4</td>\n",
       "    </tr>\n",
       "    <tr>\n",
       "      <th>16</th>\n",
       "      <td>1.3</td>\n",
       "      <td>0.4</td>\n",
       "    </tr>\n",
       "    <tr>\n",
       "      <th>17</th>\n",
       "      <td>1.4</td>\n",
       "      <td>0.3</td>\n",
       "    </tr>\n",
       "    <tr>\n",
       "      <th>18</th>\n",
       "      <td>1.7</td>\n",
       "      <td>0.3</td>\n",
       "    </tr>\n",
       "    <tr>\n",
       "      <th>19</th>\n",
       "      <td>1.5</td>\n",
       "      <td>0.3</td>\n",
       "    </tr>\n",
       "    <tr>\n",
       "      <th>20</th>\n",
       "      <td>1.7</td>\n",
       "      <td>0.2</td>\n",
       "    </tr>\n",
       "    <tr>\n",
       "      <th>21</th>\n",
       "      <td>1.5</td>\n",
       "      <td>0.4</td>\n",
       "    </tr>\n",
       "    <tr>\n",
       "      <th>22</th>\n",
       "      <td>1.0</td>\n",
       "      <td>0.2</td>\n",
       "    </tr>\n",
       "    <tr>\n",
       "      <th>23</th>\n",
       "      <td>1.7</td>\n",
       "      <td>0.5</td>\n",
       "    </tr>\n",
       "    <tr>\n",
       "      <th>24</th>\n",
       "      <td>1.9</td>\n",
       "      <td>0.2</td>\n",
       "    </tr>\n",
       "    <tr>\n",
       "      <th>25</th>\n",
       "      <td>1.6</td>\n",
       "      <td>0.2</td>\n",
       "    </tr>\n",
       "    <tr>\n",
       "      <th>26</th>\n",
       "      <td>1.6</td>\n",
       "      <td>0.4</td>\n",
       "    </tr>\n",
       "    <tr>\n",
       "      <th>27</th>\n",
       "      <td>1.5</td>\n",
       "      <td>0.2</td>\n",
       "    </tr>\n",
       "    <tr>\n",
       "      <th>28</th>\n",
       "      <td>1.4</td>\n",
       "      <td>0.2</td>\n",
       "    </tr>\n",
       "    <tr>\n",
       "      <th>29</th>\n",
       "      <td>1.6</td>\n",
       "      <td>0.2</td>\n",
       "    </tr>\n",
       "    <tr>\n",
       "      <th>30</th>\n",
       "      <td>1.6</td>\n",
       "      <td>0.2</td>\n",
       "    </tr>\n",
       "    <tr>\n",
       "      <th>31</th>\n",
       "      <td>1.5</td>\n",
       "      <td>0.4</td>\n",
       "    </tr>\n",
       "    <tr>\n",
       "      <th>32</th>\n",
       "      <td>1.5</td>\n",
       "      <td>0.1</td>\n",
       "    </tr>\n",
       "    <tr>\n",
       "      <th>33</th>\n",
       "      <td>1.4</td>\n",
       "      <td>0.2</td>\n",
       "    </tr>\n",
       "    <tr>\n",
       "      <th>34</th>\n",
       "      <td>1.5</td>\n",
       "      <td>0.2</td>\n",
       "    </tr>\n",
       "    <tr>\n",
       "      <th>35</th>\n",
       "      <td>1.2</td>\n",
       "      <td>0.2</td>\n",
       "    </tr>\n",
       "    <tr>\n",
       "      <th>36</th>\n",
       "      <td>1.3</td>\n",
       "      <td>0.2</td>\n",
       "    </tr>\n",
       "    <tr>\n",
       "      <th>37</th>\n",
       "      <td>1.4</td>\n",
       "      <td>0.1</td>\n",
       "    </tr>\n",
       "    <tr>\n",
       "      <th>38</th>\n",
       "      <td>1.3</td>\n",
       "      <td>0.2</td>\n",
       "    </tr>\n",
       "    <tr>\n",
       "      <th>39</th>\n",
       "      <td>1.5</td>\n",
       "      <td>0.2</td>\n",
       "    </tr>\n",
       "  </tbody>\n",
       "</table>\n",
       "</div>"
      ],
      "text/plain": [
       "    petal.length  petal.width\n",
       "0            1.4          0.2\n",
       "1            1.4          0.2\n",
       "2            1.3          0.2\n",
       "3            1.5          0.2\n",
       "4            1.4          0.2\n",
       "5            1.7          0.4\n",
       "6            1.4          0.3\n",
       "7            1.5          0.2\n",
       "8            1.4          0.2\n",
       "9            1.5          0.1\n",
       "10           1.5          0.2\n",
       "11           1.6          0.2\n",
       "12           1.4          0.1\n",
       "13           1.1          0.1\n",
       "14           1.2          0.2\n",
       "15           1.5          0.4\n",
       "16           1.3          0.4\n",
       "17           1.4          0.3\n",
       "18           1.7          0.3\n",
       "19           1.5          0.3\n",
       "20           1.7          0.2\n",
       "21           1.5          0.4\n",
       "22           1.0          0.2\n",
       "23           1.7          0.5\n",
       "24           1.9          0.2\n",
       "25           1.6          0.2\n",
       "26           1.6          0.4\n",
       "27           1.5          0.2\n",
       "28           1.4          0.2\n",
       "29           1.6          0.2\n",
       "30           1.6          0.2\n",
       "31           1.5          0.4\n",
       "32           1.5          0.1\n",
       "33           1.4          0.2\n",
       "34           1.5          0.2\n",
       "35           1.2          0.2\n",
       "36           1.3          0.2\n",
       "37           1.4          0.1\n",
       "38           1.3          0.2\n",
       "39           1.5          0.2"
      ]
     },
     "execution_count": 3,
     "metadata": {},
     "output_type": "execute_result"
    }
   ],
   "source": [
    "setosa_variety = df[df[\"variety\"] == \"Setosa\"][[\"petal.length\",\"petal.width\"]].iloc[0:40]  #training data of setosa variety\n",
    "setosa_variety"
   ]
  },
  {
   "cell_type": "code",
   "execution_count": 4,
   "id": "d69bfda7-35b3-4f2b-8242-75820496ab11",
   "metadata": {},
   "outputs": [
    {
     "data": {
      "text/html": [
       "<div>\n",
       "<style scoped>\n",
       "    .dataframe tbody tr th:only-of-type {\n",
       "        vertical-align: middle;\n",
       "    }\n",
       "\n",
       "    .dataframe tbody tr th {\n",
       "        vertical-align: top;\n",
       "    }\n",
       "\n",
       "    .dataframe thead th {\n",
       "        text-align: right;\n",
       "    }\n",
       "</style>\n",
       "<table border=\"1\" class=\"dataframe\">\n",
       "  <thead>\n",
       "    <tr style=\"text-align: right;\">\n",
       "      <th></th>\n",
       "      <th>petal.length</th>\n",
       "      <th>petal.width</th>\n",
       "    </tr>\n",
       "  </thead>\n",
       "  <tbody>\n",
       "    <tr>\n",
       "      <th>50</th>\n",
       "      <td>4.7</td>\n",
       "      <td>1.4</td>\n",
       "    </tr>\n",
       "    <tr>\n",
       "      <th>51</th>\n",
       "      <td>4.5</td>\n",
       "      <td>1.5</td>\n",
       "    </tr>\n",
       "    <tr>\n",
       "      <th>52</th>\n",
       "      <td>4.9</td>\n",
       "      <td>1.5</td>\n",
       "    </tr>\n",
       "    <tr>\n",
       "      <th>53</th>\n",
       "      <td>4.0</td>\n",
       "      <td>1.3</td>\n",
       "    </tr>\n",
       "    <tr>\n",
       "      <th>54</th>\n",
       "      <td>4.6</td>\n",
       "      <td>1.5</td>\n",
       "    </tr>\n",
       "    <tr>\n",
       "      <th>55</th>\n",
       "      <td>4.5</td>\n",
       "      <td>1.3</td>\n",
       "    </tr>\n",
       "    <tr>\n",
       "      <th>56</th>\n",
       "      <td>4.7</td>\n",
       "      <td>1.6</td>\n",
       "    </tr>\n",
       "    <tr>\n",
       "      <th>57</th>\n",
       "      <td>3.3</td>\n",
       "      <td>1.0</td>\n",
       "    </tr>\n",
       "    <tr>\n",
       "      <th>58</th>\n",
       "      <td>4.6</td>\n",
       "      <td>1.3</td>\n",
       "    </tr>\n",
       "    <tr>\n",
       "      <th>59</th>\n",
       "      <td>3.9</td>\n",
       "      <td>1.4</td>\n",
       "    </tr>\n",
       "    <tr>\n",
       "      <th>60</th>\n",
       "      <td>3.5</td>\n",
       "      <td>1.0</td>\n",
       "    </tr>\n",
       "    <tr>\n",
       "      <th>61</th>\n",
       "      <td>4.2</td>\n",
       "      <td>1.5</td>\n",
       "    </tr>\n",
       "    <tr>\n",
       "      <th>62</th>\n",
       "      <td>4.0</td>\n",
       "      <td>1.0</td>\n",
       "    </tr>\n",
       "    <tr>\n",
       "      <th>63</th>\n",
       "      <td>4.7</td>\n",
       "      <td>1.4</td>\n",
       "    </tr>\n",
       "    <tr>\n",
       "      <th>64</th>\n",
       "      <td>3.6</td>\n",
       "      <td>1.3</td>\n",
       "    </tr>\n",
       "    <tr>\n",
       "      <th>65</th>\n",
       "      <td>4.4</td>\n",
       "      <td>1.4</td>\n",
       "    </tr>\n",
       "    <tr>\n",
       "      <th>66</th>\n",
       "      <td>4.5</td>\n",
       "      <td>1.5</td>\n",
       "    </tr>\n",
       "    <tr>\n",
       "      <th>67</th>\n",
       "      <td>4.1</td>\n",
       "      <td>1.0</td>\n",
       "    </tr>\n",
       "    <tr>\n",
       "      <th>68</th>\n",
       "      <td>4.5</td>\n",
       "      <td>1.5</td>\n",
       "    </tr>\n",
       "    <tr>\n",
       "      <th>69</th>\n",
       "      <td>3.9</td>\n",
       "      <td>1.1</td>\n",
       "    </tr>\n",
       "    <tr>\n",
       "      <th>70</th>\n",
       "      <td>4.8</td>\n",
       "      <td>1.8</td>\n",
       "    </tr>\n",
       "    <tr>\n",
       "      <th>71</th>\n",
       "      <td>4.0</td>\n",
       "      <td>1.3</td>\n",
       "    </tr>\n",
       "    <tr>\n",
       "      <th>72</th>\n",
       "      <td>4.9</td>\n",
       "      <td>1.5</td>\n",
       "    </tr>\n",
       "    <tr>\n",
       "      <th>73</th>\n",
       "      <td>4.7</td>\n",
       "      <td>1.2</td>\n",
       "    </tr>\n",
       "    <tr>\n",
       "      <th>74</th>\n",
       "      <td>4.3</td>\n",
       "      <td>1.3</td>\n",
       "    </tr>\n",
       "    <tr>\n",
       "      <th>75</th>\n",
       "      <td>4.4</td>\n",
       "      <td>1.4</td>\n",
       "    </tr>\n",
       "    <tr>\n",
       "      <th>76</th>\n",
       "      <td>4.8</td>\n",
       "      <td>1.4</td>\n",
       "    </tr>\n",
       "    <tr>\n",
       "      <th>77</th>\n",
       "      <td>5.0</td>\n",
       "      <td>1.7</td>\n",
       "    </tr>\n",
       "    <tr>\n",
       "      <th>78</th>\n",
       "      <td>4.5</td>\n",
       "      <td>1.5</td>\n",
       "    </tr>\n",
       "    <tr>\n",
       "      <th>79</th>\n",
       "      <td>3.5</td>\n",
       "      <td>1.0</td>\n",
       "    </tr>\n",
       "    <tr>\n",
       "      <th>80</th>\n",
       "      <td>3.8</td>\n",
       "      <td>1.1</td>\n",
       "    </tr>\n",
       "    <tr>\n",
       "      <th>81</th>\n",
       "      <td>3.7</td>\n",
       "      <td>1.0</td>\n",
       "    </tr>\n",
       "    <tr>\n",
       "      <th>82</th>\n",
       "      <td>3.9</td>\n",
       "      <td>1.2</td>\n",
       "    </tr>\n",
       "    <tr>\n",
       "      <th>83</th>\n",
       "      <td>5.1</td>\n",
       "      <td>1.6</td>\n",
       "    </tr>\n",
       "    <tr>\n",
       "      <th>84</th>\n",
       "      <td>4.5</td>\n",
       "      <td>1.5</td>\n",
       "    </tr>\n",
       "    <tr>\n",
       "      <th>85</th>\n",
       "      <td>4.5</td>\n",
       "      <td>1.6</td>\n",
       "    </tr>\n",
       "    <tr>\n",
       "      <th>86</th>\n",
       "      <td>4.7</td>\n",
       "      <td>1.5</td>\n",
       "    </tr>\n",
       "    <tr>\n",
       "      <th>87</th>\n",
       "      <td>4.4</td>\n",
       "      <td>1.3</td>\n",
       "    </tr>\n",
       "    <tr>\n",
       "      <th>88</th>\n",
       "      <td>4.1</td>\n",
       "      <td>1.3</td>\n",
       "    </tr>\n",
       "    <tr>\n",
       "      <th>89</th>\n",
       "      <td>4.0</td>\n",
       "      <td>1.3</td>\n",
       "    </tr>\n",
       "  </tbody>\n",
       "</table>\n",
       "</div>"
      ],
      "text/plain": [
       "    petal.length  petal.width\n",
       "50           4.7          1.4\n",
       "51           4.5          1.5\n",
       "52           4.9          1.5\n",
       "53           4.0          1.3\n",
       "54           4.6          1.5\n",
       "55           4.5          1.3\n",
       "56           4.7          1.6\n",
       "57           3.3          1.0\n",
       "58           4.6          1.3\n",
       "59           3.9          1.4\n",
       "60           3.5          1.0\n",
       "61           4.2          1.5\n",
       "62           4.0          1.0\n",
       "63           4.7          1.4\n",
       "64           3.6          1.3\n",
       "65           4.4          1.4\n",
       "66           4.5          1.5\n",
       "67           4.1          1.0\n",
       "68           4.5          1.5\n",
       "69           3.9          1.1\n",
       "70           4.8          1.8\n",
       "71           4.0          1.3\n",
       "72           4.9          1.5\n",
       "73           4.7          1.2\n",
       "74           4.3          1.3\n",
       "75           4.4          1.4\n",
       "76           4.8          1.4\n",
       "77           5.0          1.7\n",
       "78           4.5          1.5\n",
       "79           3.5          1.0\n",
       "80           3.8          1.1\n",
       "81           3.7          1.0\n",
       "82           3.9          1.2\n",
       "83           5.1          1.6\n",
       "84           4.5          1.5\n",
       "85           4.5          1.6\n",
       "86           4.7          1.5\n",
       "87           4.4          1.3\n",
       "88           4.1          1.3\n",
       "89           4.0          1.3"
      ]
     },
     "execution_count": 4,
     "metadata": {},
     "output_type": "execute_result"
    }
   ],
   "source": [
    "versicolor_variety = df[df[\"variety\"] == \"Versicolor\"][[\"petal.length\",\"petal.width\"]].iloc[0:40] #training data of versicolor variety\n",
    "versicolor_variety"
   ]
  },
  {
   "cell_type": "code",
   "execution_count": 5,
   "id": "36a85362-a8f8-467b-a148-2f6f0dc4163f",
   "metadata": {},
   "outputs": [
    {
     "data": {
      "text/html": [
       "<div>\n",
       "<style scoped>\n",
       "    .dataframe tbody tr th:only-of-type {\n",
       "        vertical-align: middle;\n",
       "    }\n",
       "\n",
       "    .dataframe tbody tr th {\n",
       "        vertical-align: top;\n",
       "    }\n",
       "\n",
       "    .dataframe thead th {\n",
       "        text-align: right;\n",
       "    }\n",
       "</style>\n",
       "<table border=\"1\" class=\"dataframe\">\n",
       "  <thead>\n",
       "    <tr style=\"text-align: right;\">\n",
       "      <th></th>\n",
       "      <th>petal.length</th>\n",
       "      <th>petal.width</th>\n",
       "    </tr>\n",
       "  </thead>\n",
       "  <tbody>\n",
       "    <tr>\n",
       "      <th>100</th>\n",
       "      <td>6.0</td>\n",
       "      <td>2.5</td>\n",
       "    </tr>\n",
       "    <tr>\n",
       "      <th>101</th>\n",
       "      <td>5.1</td>\n",
       "      <td>1.9</td>\n",
       "    </tr>\n",
       "    <tr>\n",
       "      <th>102</th>\n",
       "      <td>5.9</td>\n",
       "      <td>2.1</td>\n",
       "    </tr>\n",
       "    <tr>\n",
       "      <th>103</th>\n",
       "      <td>5.6</td>\n",
       "      <td>1.8</td>\n",
       "    </tr>\n",
       "    <tr>\n",
       "      <th>104</th>\n",
       "      <td>5.8</td>\n",
       "      <td>2.2</td>\n",
       "    </tr>\n",
       "    <tr>\n",
       "      <th>105</th>\n",
       "      <td>6.6</td>\n",
       "      <td>2.1</td>\n",
       "    </tr>\n",
       "    <tr>\n",
       "      <th>106</th>\n",
       "      <td>4.5</td>\n",
       "      <td>1.7</td>\n",
       "    </tr>\n",
       "    <tr>\n",
       "      <th>107</th>\n",
       "      <td>6.3</td>\n",
       "      <td>1.8</td>\n",
       "    </tr>\n",
       "    <tr>\n",
       "      <th>108</th>\n",
       "      <td>5.8</td>\n",
       "      <td>1.8</td>\n",
       "    </tr>\n",
       "    <tr>\n",
       "      <th>109</th>\n",
       "      <td>6.1</td>\n",
       "      <td>2.5</td>\n",
       "    </tr>\n",
       "    <tr>\n",
       "      <th>110</th>\n",
       "      <td>5.1</td>\n",
       "      <td>2.0</td>\n",
       "    </tr>\n",
       "    <tr>\n",
       "      <th>111</th>\n",
       "      <td>5.3</td>\n",
       "      <td>1.9</td>\n",
       "    </tr>\n",
       "    <tr>\n",
       "      <th>112</th>\n",
       "      <td>5.5</td>\n",
       "      <td>2.1</td>\n",
       "    </tr>\n",
       "    <tr>\n",
       "      <th>113</th>\n",
       "      <td>5.0</td>\n",
       "      <td>2.0</td>\n",
       "    </tr>\n",
       "    <tr>\n",
       "      <th>114</th>\n",
       "      <td>5.1</td>\n",
       "      <td>2.4</td>\n",
       "    </tr>\n",
       "    <tr>\n",
       "      <th>115</th>\n",
       "      <td>5.3</td>\n",
       "      <td>2.3</td>\n",
       "    </tr>\n",
       "    <tr>\n",
       "      <th>116</th>\n",
       "      <td>5.5</td>\n",
       "      <td>1.8</td>\n",
       "    </tr>\n",
       "    <tr>\n",
       "      <th>117</th>\n",
       "      <td>6.7</td>\n",
       "      <td>2.2</td>\n",
       "    </tr>\n",
       "    <tr>\n",
       "      <th>118</th>\n",
       "      <td>6.9</td>\n",
       "      <td>2.3</td>\n",
       "    </tr>\n",
       "    <tr>\n",
       "      <th>119</th>\n",
       "      <td>5.0</td>\n",
       "      <td>1.5</td>\n",
       "    </tr>\n",
       "    <tr>\n",
       "      <th>120</th>\n",
       "      <td>5.7</td>\n",
       "      <td>2.3</td>\n",
       "    </tr>\n",
       "    <tr>\n",
       "      <th>121</th>\n",
       "      <td>4.9</td>\n",
       "      <td>2.0</td>\n",
       "    </tr>\n",
       "    <tr>\n",
       "      <th>122</th>\n",
       "      <td>6.7</td>\n",
       "      <td>2.0</td>\n",
       "    </tr>\n",
       "    <tr>\n",
       "      <th>123</th>\n",
       "      <td>4.9</td>\n",
       "      <td>1.8</td>\n",
       "    </tr>\n",
       "    <tr>\n",
       "      <th>124</th>\n",
       "      <td>5.7</td>\n",
       "      <td>2.1</td>\n",
       "    </tr>\n",
       "    <tr>\n",
       "      <th>125</th>\n",
       "      <td>6.0</td>\n",
       "      <td>1.8</td>\n",
       "    </tr>\n",
       "    <tr>\n",
       "      <th>126</th>\n",
       "      <td>4.8</td>\n",
       "      <td>1.8</td>\n",
       "    </tr>\n",
       "    <tr>\n",
       "      <th>127</th>\n",
       "      <td>4.9</td>\n",
       "      <td>1.8</td>\n",
       "    </tr>\n",
       "    <tr>\n",
       "      <th>128</th>\n",
       "      <td>5.6</td>\n",
       "      <td>2.1</td>\n",
       "    </tr>\n",
       "    <tr>\n",
       "      <th>129</th>\n",
       "      <td>5.8</td>\n",
       "      <td>1.6</td>\n",
       "    </tr>\n",
       "    <tr>\n",
       "      <th>130</th>\n",
       "      <td>6.1</td>\n",
       "      <td>1.9</td>\n",
       "    </tr>\n",
       "    <tr>\n",
       "      <th>131</th>\n",
       "      <td>6.4</td>\n",
       "      <td>2.0</td>\n",
       "    </tr>\n",
       "    <tr>\n",
       "      <th>132</th>\n",
       "      <td>5.6</td>\n",
       "      <td>2.2</td>\n",
       "    </tr>\n",
       "    <tr>\n",
       "      <th>133</th>\n",
       "      <td>5.1</td>\n",
       "      <td>1.5</td>\n",
       "    </tr>\n",
       "    <tr>\n",
       "      <th>134</th>\n",
       "      <td>5.6</td>\n",
       "      <td>1.4</td>\n",
       "    </tr>\n",
       "    <tr>\n",
       "      <th>135</th>\n",
       "      <td>6.1</td>\n",
       "      <td>2.3</td>\n",
       "    </tr>\n",
       "    <tr>\n",
       "      <th>136</th>\n",
       "      <td>5.6</td>\n",
       "      <td>2.4</td>\n",
       "    </tr>\n",
       "    <tr>\n",
       "      <th>137</th>\n",
       "      <td>5.5</td>\n",
       "      <td>1.8</td>\n",
       "    </tr>\n",
       "    <tr>\n",
       "      <th>138</th>\n",
       "      <td>4.8</td>\n",
       "      <td>1.8</td>\n",
       "    </tr>\n",
       "    <tr>\n",
       "      <th>139</th>\n",
       "      <td>5.4</td>\n",
       "      <td>2.1</td>\n",
       "    </tr>\n",
       "  </tbody>\n",
       "</table>\n",
       "</div>"
      ],
      "text/plain": [
       "     petal.length  petal.width\n",
       "100           6.0          2.5\n",
       "101           5.1          1.9\n",
       "102           5.9          2.1\n",
       "103           5.6          1.8\n",
       "104           5.8          2.2\n",
       "105           6.6          2.1\n",
       "106           4.5          1.7\n",
       "107           6.3          1.8\n",
       "108           5.8          1.8\n",
       "109           6.1          2.5\n",
       "110           5.1          2.0\n",
       "111           5.3          1.9\n",
       "112           5.5          2.1\n",
       "113           5.0          2.0\n",
       "114           5.1          2.4\n",
       "115           5.3          2.3\n",
       "116           5.5          1.8\n",
       "117           6.7          2.2\n",
       "118           6.9          2.3\n",
       "119           5.0          1.5\n",
       "120           5.7          2.3\n",
       "121           4.9          2.0\n",
       "122           6.7          2.0\n",
       "123           4.9          1.8\n",
       "124           5.7          2.1\n",
       "125           6.0          1.8\n",
       "126           4.8          1.8\n",
       "127           4.9          1.8\n",
       "128           5.6          2.1\n",
       "129           5.8          1.6\n",
       "130           6.1          1.9\n",
       "131           6.4          2.0\n",
       "132           5.6          2.2\n",
       "133           5.1          1.5\n",
       "134           5.6          1.4\n",
       "135           6.1          2.3\n",
       "136           5.6          2.4\n",
       "137           5.5          1.8\n",
       "138           4.8          1.8\n",
       "139           5.4          2.1"
      ]
     },
     "execution_count": 5,
     "metadata": {},
     "output_type": "execute_result"
    }
   ],
   "source": [
    "virginica_variety = df[df[\"variety\"] == \"Virginica\"][[\"petal.length\",\"petal.width\"]].iloc[0:40]  #training data of virginica variety\n",
    "virginica_variety"
   ]
  },
  {
   "cell_type": "markdown",
   "id": "0ea36031-7eff-4a55-b0ed-be6b2ced4eb0",
   "metadata": {},
   "source": [
    "## COMPUTING THE COVARIANCE MATRICES"
   ]
  },
  {
   "cell_type": "code",
   "execution_count": 6,
   "id": "791d88ea-6ba3-487f-8a14-4b1c3e219400",
   "metadata": {},
   "outputs": [
    {
     "data": {
      "text/html": [
       "<div>\n",
       "<style scoped>\n",
       "    .dataframe tbody tr th:only-of-type {\n",
       "        vertical-align: middle;\n",
       "    }\n",
       "\n",
       "    .dataframe tbody tr th {\n",
       "        vertical-align: top;\n",
       "    }\n",
       "\n",
       "    .dataframe thead th {\n",
       "        text-align: right;\n",
       "    }\n",
       "</style>\n",
       "<table border=\"1\" class=\"dataframe\">\n",
       "  <thead>\n",
       "    <tr style=\"text-align: right;\">\n",
       "      <th></th>\n",
       "      <th>petal.length</th>\n",
       "      <th>petal.width</th>\n",
       "    </tr>\n",
       "  </thead>\n",
       "  <tbody>\n",
       "    <tr>\n",
       "      <th>petal.length</th>\n",
       "      <td>0.029641</td>\n",
       "      <td>0.005026</td>\n",
       "    </tr>\n",
       "    <tr>\n",
       "      <th>petal.width</th>\n",
       "      <td>0.005026</td>\n",
       "      <td>0.009513</td>\n",
       "    </tr>\n",
       "  </tbody>\n",
       "</table>\n",
       "</div>"
      ],
      "text/plain": [
       "              petal.length  petal.width\n",
       "petal.length      0.029641     0.005026\n",
       "petal.width       0.005026     0.009513"
      ]
     },
     "execution_count": 6,
     "metadata": {},
     "output_type": "execute_result"
    }
   ],
   "source": [
    "cov_setosa = setosa_variety.cov()  #covariance matrix of the setosa class\n",
    "cov_setosa"
   ]
  },
  {
   "cell_type": "code",
   "execution_count": 7,
   "id": "f6d06b23-fac6-4351-8aa7-0a33896f4400",
   "metadata": {},
   "outputs": [
    {
     "data": {
      "text/html": [
       "<div>\n",
       "<style scoped>\n",
       "    .dataframe tbody tr th:only-of-type {\n",
       "        vertical-align: middle;\n",
       "    }\n",
       "\n",
       "    .dataframe tbody tr th {\n",
       "        vertical-align: top;\n",
       "    }\n",
       "\n",
       "    .dataframe thead th {\n",
       "        text-align: right;\n",
       "    }\n",
       "</style>\n",
       "<table border=\"1\" class=\"dataframe\">\n",
       "  <thead>\n",
       "    <tr style=\"text-align: right;\">\n",
       "      <th></th>\n",
       "      <th>petal.length</th>\n",
       "      <th>petal.width</th>\n",
       "    </tr>\n",
       "  </thead>\n",
       "  <tbody>\n",
       "    <tr>\n",
       "      <th>petal.length</th>\n",
       "      <td>0.203532</td>\n",
       "      <td>0.073718</td>\n",
       "    </tr>\n",
       "    <tr>\n",
       "      <th>petal.width</th>\n",
       "      <td>0.073718</td>\n",
       "      <td>0.043077</td>\n",
       "    </tr>\n",
       "  </tbody>\n",
       "</table>\n",
       "</div>"
      ],
      "text/plain": [
       "              petal.length  petal.width\n",
       "petal.length      0.203532     0.073718\n",
       "petal.width       0.073718     0.043077"
      ]
     },
     "execution_count": 7,
     "metadata": {},
     "output_type": "execute_result"
    }
   ],
   "source": [
    "cov_versicolor = versicolor_variety.cov()  #convariance matrix of the versicolor class\n",
    "cov_versicolor"
   ]
  },
  {
   "cell_type": "code",
   "execution_count": 8,
   "id": "9a7e93d2-88b6-438b-87f5-49c84d707ba0",
   "metadata": {},
   "outputs": [
    {
     "data": {
      "text/html": [
       "<div>\n",
       "<style scoped>\n",
       "    .dataframe tbody tr th:only-of-type {\n",
       "        vertical-align: middle;\n",
       "    }\n",
       "\n",
       "    .dataframe tbody tr th {\n",
       "        vertical-align: top;\n",
       "    }\n",
       "\n",
       "    .dataframe thead th {\n",
       "        text-align: right;\n",
       "    }\n",
       "</style>\n",
       "<table border=\"1\" class=\"dataframe\">\n",
       "  <thead>\n",
       "    <tr style=\"text-align: right;\">\n",
       "      <th></th>\n",
       "      <th>petal.length</th>\n",
       "      <th>petal.width</th>\n",
       "    </tr>\n",
       "  </thead>\n",
       "  <tbody>\n",
       "    <tr>\n",
       "      <th>petal.length</th>\n",
       "      <td>0.345327</td>\n",
       "      <td>0.059308</td>\n",
       "    </tr>\n",
       "    <tr>\n",
       "      <th>petal.width</th>\n",
       "      <td>0.059308</td>\n",
       "      <td>0.074256</td>\n",
       "    </tr>\n",
       "  </tbody>\n",
       "</table>\n",
       "</div>"
      ],
      "text/plain": [
       "              petal.length  petal.width\n",
       "petal.length      0.345327     0.059308\n",
       "petal.width       0.059308     0.074256"
      ]
     },
     "execution_count": 8,
     "metadata": {},
     "output_type": "execute_result"
    }
   ],
   "source": [
    "cov_virginica = virginica_variety.cov()   #covariance matrix of the virginica class\n",
    "cov_virginica"
   ]
  },
  {
   "cell_type": "code",
   "execution_count": 9,
   "id": "96af5a30-b94e-4eaf-941c-d3fc451fd5af",
   "metadata": {},
   "outputs": [
    {
     "data": {
      "text/plain": [
       "array([[ 37.05629258, -19.57690929],\n",
       "       [-19.57690929, 115.46381191]])"
      ]
     },
     "execution_count": 9,
     "metadata": {},
     "output_type": "execute_result"
    }
   ],
   "source": [
    "inv_cov_setosa = np.linalg.inv(cov_setosa)  #computing inverse covariance matrices\n",
    "inv_cov_setosa"
   ]
  },
  {
   "cell_type": "code",
   "execution_count": 10,
   "id": "52da243d-d9f2-4b48-97a9-8082528408b5",
   "metadata": {},
   "outputs": [
    {
     "data": {
      "text/plain": [
       "array([[ 12.92359947, -22.11627886],\n",
       "       [-22.11627886,  61.06208436]])"
      ]
     },
     "execution_count": 10,
     "metadata": {},
     "output_type": "execute_result"
    }
   ],
   "source": [
    "inv_cov_versicolor = np.linalg.inv(cov_versicolor)\n",
    "inv_cov_versicolor"
   ]
  },
  {
   "cell_type": "code",
   "execution_count": 11,
   "id": "081966e4-4512-4d63-b037-0ad6808b8976",
   "metadata": {},
   "outputs": [
    {
     "data": {
      "text/plain": [
       "array([[ 3.35617107, -2.68053304],\n",
       "       [-2.68053304, 15.60775999]])"
      ]
     },
     "execution_count": 11,
     "metadata": {},
     "output_type": "execute_result"
    }
   ],
   "source": [
    "inv_cov_virginica = np.linalg.inv(cov_virginica)\n",
    "inv_cov_virginica"
   ]
  },
  {
   "cell_type": "markdown",
   "id": "c05d33f2-e7fc-4394-a03c-cf2c02f435e6",
   "metadata": {},
   "source": [
    "## CASE 3 OF BAYES CLASSIFIER"
   ]
  },
  {
   "cell_type": "code",
   "execution_count": 12,
   "id": "2bd00737-63c9-4fdc-9e65-4b96bcd80409",
   "metadata": {},
   "outputs": [
    {
     "data": {
      "text/plain": [
       "array([[-18.52814629,   9.78845464],\n",
       "       [  9.78845464, -57.73190596]])"
      ]
     },
     "execution_count": 12,
     "metadata": {},
     "output_type": "execute_result"
    }
   ],
   "source": [
    "W1 = -0.5*inv_cov_setosa\n",
    "W1"
   ]
  },
  {
   "cell_type": "code",
   "execution_count": 13,
   "id": "8e477e2b-136b-448c-9bbf-15f997f71639",
   "metadata": {},
   "outputs": [
    {
     "data": {
      "text/plain": [
       "array([[ -6.46179974,  11.05813943],\n",
       "       [ 11.05813943, -30.53104218]])"
      ]
     },
     "execution_count": 13,
     "metadata": {},
     "output_type": "execute_result"
    }
   ],
   "source": [
    "W2 = -0.5*inv_cov_versicolor\n",
    "W2"
   ]
  },
  {
   "cell_type": "code",
   "execution_count": 14,
   "id": "0ef604e6-7177-4e46-82ca-bac85b1d0ff6",
   "metadata": {},
   "outputs": [
    {
     "data": {
      "text/plain": [
       "array([[-1.67808553,  1.34026652],\n",
       "       [ 1.34026652, -7.80387999]])"
      ]
     },
     "execution_count": 14,
     "metadata": {},
     "output_type": "execute_result"
    }
   ],
   "source": [
    "W3 = -0.5*inv_cov_virginica\n",
    "W3"
   ]
  },
  {
   "cell_type": "code",
   "execution_count": 15,
   "id": "2b96bfc2-ce27-4f35-931c-db24c7c73176",
   "metadata": {},
   "outputs": [
    {
     "data": {
      "text/plain": [
       "np.float64(-18.528146288992463)"
      ]
     },
     "execution_count": 15,
     "metadata": {},
     "output_type": "execute_result"
    }
   ],
   "source": [
    "x1_squared_coefficient_1 = W1[0][0]\n",
    "x1_squared_coefficient_1"
   ]
  },
  {
   "cell_type": "code",
   "execution_count": 16,
   "id": "b8475c85-7876-423a-a158-552cc496ae73",
   "metadata": {},
   "outputs": [
    {
     "data": {
      "text/plain": [
       "np.float64(-57.73190595707631)"
      ]
     },
     "execution_count": 16,
     "metadata": {},
     "output_type": "execute_result"
    }
   ],
   "source": [
    "x2_squared_coefficient_1 = W1[1][1]\n",
    "x2_squared_coefficient_1"
   ]
  },
  {
   "cell_type": "code",
   "execution_count": 17,
   "id": "e6af34bf-e21f-4b49-9b04-3e4e29d5145b",
   "metadata": {},
   "outputs": [
    {
     "data": {
      "text/plain": [
       "np.float64(19.576909286482607)"
      ]
     },
     "execution_count": 17,
     "metadata": {},
     "output_type": "execute_result"
    }
   ],
   "source": [
    "x1_x2_coefficient_1 = W1[0][1] + W1[1][0]\n",
    "x1_x2_coefficient_1"
   ]
  },
  {
   "cell_type": "code",
   "execution_count": 18,
   "id": "99a11573-7249-4654-a4f9-1100bf655f36",
   "metadata": {},
   "outputs": [
    {
     "data": {
      "text/plain": [
       "np.float64(-6.4617997374647285)"
      ]
     },
     "execution_count": 18,
     "metadata": {},
     "output_type": "execute_result"
    }
   ],
   "source": [
    "x1_squared_coefficient_2 = W2[0][0]\n",
    "x1_squared_coefficient_2"
   ]
  },
  {
   "cell_type": "code",
   "execution_count": 19,
   "id": "6c2a7a4b-f685-4049-9832-8a73aa0f37c2",
   "metadata": {},
   "outputs": [
    {
     "data": {
      "text/plain": [
       "np.float64(-30.53104218217897)"
      ]
     },
     "execution_count": 19,
     "metadata": {},
     "output_type": "execute_result"
    }
   ],
   "source": [
    "x2_squared_coefficient_2 = W2[1][1]\n",
    "x2_squared_coefficient_2"
   ]
  },
  {
   "cell_type": "code",
   "execution_count": 20,
   "id": "166197cd-0849-4c96-8864-2af74bd8a38d",
   "metadata": {},
   "outputs": [
    {
     "data": {
      "text/plain": [
       "np.float64(22.116278863346544)"
      ]
     },
     "execution_count": 20,
     "metadata": {},
     "output_type": "execute_result"
    }
   ],
   "source": [
    "x1_x2_coefficient_2 = W2[0][1] + W2[1][0]\n",
    "x1_x2_coefficient_2"
   ]
  },
  {
   "cell_type": "code",
   "execution_count": 21,
   "id": "b8889822-173d-4df8-a9cb-955106e581de",
   "metadata": {},
   "outputs": [
    {
     "data": {
      "text/plain": [
       "np.float64(-1.6780855347582746)"
      ]
     },
     "execution_count": 21,
     "metadata": {},
     "output_type": "execute_result"
    }
   ],
   "source": [
    "x1_squared_coefficient_3 = W3[0][0]\n",
    "x1_squared_coefficient_3"
   ]
  },
  {
   "cell_type": "code",
   "execution_count": 22,
   "id": "fa054715-dca1-4fa2-87d8-63c8595286c7",
   "metadata": {},
   "outputs": [
    {
     "data": {
      "text/plain": [
       "np.float64(-7.8038799933497085)"
      ]
     },
     "execution_count": 22,
     "metadata": {},
     "output_type": "execute_result"
    }
   ],
   "source": [
    "x2_squared_coefficient_3 = W3[1][1]\n",
    "x2_squared_coefficient_3"
   ]
  },
  {
   "cell_type": "code",
   "execution_count": 23,
   "id": "7b3cca5a-abf4-40db-afa2-73b1205edbb2",
   "metadata": {},
   "outputs": [
    {
     "data": {
      "text/plain": [
       "np.float64(2.6805330399833505)"
      ]
     },
     "execution_count": 23,
     "metadata": {},
     "output_type": "execute_result"
    }
   ],
   "source": [
    "x1_x2_coefficient_3 = W3[0][1] + W3[1][0]\n",
    "x1_x2_coefficient_3"
   ]
  },
  {
   "cell_type": "code",
   "execution_count": 24,
   "id": "c3bafbe6-b1bf-497d-98b3-4b30e6b2c63a",
   "metadata": {},
   "outputs": [
    {
     "data": {
      "text/plain": [
       "petal.length    1.460\n",
       "petal.width     0.235\n",
       "dtype: float64"
      ]
     },
     "execution_count": 24,
     "metadata": {},
     "output_type": "execute_result"
    }
   ],
   "source": [
    "mean1 = setosa_variety.mean()\n",
    "mean1"
   ]
  },
  {
   "cell_type": "code",
   "execution_count": 25,
   "id": "1fd88ce6-6440-42fa-98c8-687b8fbe86b7",
   "metadata": {},
   "outputs": [
    {
     "data": {
      "text/plain": [
       "petal.length    4.3175\n",
       "petal.width     1.3500\n",
       "dtype: float64"
      ]
     },
     "execution_count": 25,
     "metadata": {},
     "output_type": "execute_result"
    }
   ],
   "source": [
    "mean2 = versicolor_variety.mean()\n",
    "mean2"
   ]
  },
  {
   "cell_type": "code",
   "execution_count": 26,
   "id": "146112fd-e993-4bb9-808a-7fc4e4fee735",
   "metadata": {},
   "outputs": [
    {
     "data": {
      "text/plain": [
       "petal.length    5.6075\n",
       "petal.width     1.9900\n",
       "dtype: float64"
      ]
     },
     "execution_count": 26,
     "metadata": {},
     "output_type": "execute_result"
    }
   ],
   "source": [
    "mean3 = virginica_variety.mean()\n",
    "mean3"
   ]
  },
  {
   "cell_type": "code",
   "execution_count": 27,
   "id": "9a71a6f3-d346-4194-84d0-ce936b2d7177",
   "metadata": {},
   "outputs": [
    {
     "data": {
      "text/plain": [
       "array([49.50161348, -1.44829176])"
      ]
     },
     "execution_count": 27,
     "metadata": {},
     "output_type": "execute_result"
    }
   ],
   "source": [
    "w1 = np.matmul(inv_cov_setosa,mean1)\n",
    "w1"
   ]
  },
  {
   "cell_type": "code",
   "execution_count": 28,
   "id": "a1672f83-c3dc-4061-8033-21d167576f19",
   "metadata": {},
   "outputs": [
    {
     "data": {
      "text/plain": [
       "array([ 25.94066427, -13.0532201 ])"
      ]
     },
     "execution_count": 28,
     "metadata": {},
     "output_type": "execute_result"
    }
   ],
   "source": [
    "w2 = np.matmul(inv_cov_versicolor,mean2)\n",
    "w2"
   ]
  },
  {
   "cell_type": "code",
   "execution_count": 29,
   "id": "ff3dcbf5-1b84-4343-9c9c-7bfbca44b077",
   "metadata": {},
   "outputs": [
    {
     "data": {
      "text/plain": [
       "array([13.48546852, 16.02835335])"
      ]
     },
     "execution_count": 29,
     "metadata": {},
     "output_type": "execute_result"
    }
   ],
   "source": [
    "w3 = np.matmul(inv_cov_virginica,mean3)\n",
    "w3"
   ]
  },
  {
   "cell_type": "code",
   "execution_count": 30,
   "id": "4ab86eec-572f-4c81-969f-8fb3a0f6991d",
   "metadata": {},
   "outputs": [
    {
     "data": {
      "text/plain": [
       "np.float64(49.50161348153458)"
      ]
     },
     "execution_count": 30,
     "metadata": {},
     "output_type": "execute_result"
    }
   ],
   "source": [
    "x1_coefficient_1 = w1[0]\n",
    "x1_coefficient_1"
   ]
  },
  {
   "cell_type": "code",
   "execution_count": 31,
   "id": "bfeb919f-5b85-47c7-8314-b538ddf02ae2",
   "metadata": {},
   "outputs": [
    {
     "data": {
      "text/plain": [
       "np.float64(-1.448291758438741)"
      ]
     },
     "execution_count": 31,
     "metadata": {},
     "output_type": "execute_result"
    }
   ],
   "source": [
    "x2_coefficient_1 = w1[1]\n",
    "x2_coefficient_1"
   ]
  },
  {
   "cell_type": "code",
   "execution_count": 32,
   "id": "7f7101f6-1ead-4b20-9c2d-d537843962ba",
   "metadata": {},
   "outputs": [
    {
     "data": {
      "text/plain": [
       "np.float64(25.940664267490092)"
      ]
     },
     "execution_count": 32,
     "metadata": {},
     "output_type": "execute_result"
    }
   ],
   "source": [
    "x1_coefficient_2 = w2[0]\n",
    "x1_coefficient_2"
   ]
  },
  {
   "cell_type": "code",
   "execution_count": 33,
   "id": "066a8a8e-71ef-45b6-9936-6c4d23e84403",
   "metadata": {},
   "outputs": [
    {
     "data": {
      "text/plain": [
       "np.float64(-13.053220100615468)"
      ]
     },
     "execution_count": 33,
     "metadata": {},
     "output_type": "execute_result"
    }
   ],
   "source": [
    "x2_coefficient_2 = w2[1]\n",
    "x2_coefficient_2"
   ]
  },
  {
   "cell_type": "code",
   "execution_count": 34,
   "id": "28951ae6-903b-4e52-90d4-10a71066fafa",
   "metadata": {},
   "outputs": [
    {
     "data": {
      "text/plain": [
       "np.float64(13.485468522747183)"
      ]
     },
     "execution_count": 34,
     "metadata": {},
     "output_type": "execute_result"
    }
   ],
   "source": [
    "x1_coefficient_3 = w3[0]\n",
    "x1_coefficient_3"
   ]
  },
  {
   "cell_type": "code",
   "execution_count": 35,
   "id": "d43d3398-1a58-4326-b50a-5e669156e7f0",
   "metadata": {},
   "outputs": [
    {
     "data": {
      "text/plain": [
       "np.float64(16.0283533518252)"
      ]
     },
     "execution_count": 35,
     "metadata": {},
     "output_type": "execute_result"
    }
   ],
   "source": [
    "x2_coefficient_3 = w3[1]\n",
    "x2_coefficient_3"
   ]
  },
  {
   "cell_type": "code",
   "execution_count": 36,
   "id": "734f5506-a7d7-4390-bb3e-f2dc571567f1",
   "metadata": {},
   "outputs": [
    {
     "data": {
      "text/plain": [
       "np.float64(-31.832227039910297)"
      ]
     },
     "execution_count": 36,
     "metadata": {},
     "output_type": "execute_result"
    }
   ],
   "source": [
    "constant_1 = -0.5*(np.matmul(np.matmul(mean1.transpose(),inv_cov_setosa),mean1)) -0.5*(math.log(np.linalg.det(cov_setosa)))\n",
    "constant_1"
   ]
  },
  {
   "cell_type": "code",
   "execution_count": 37,
   "id": "d935d35e-9250-4ca8-bf46-8d307f0717cd",
   "metadata": {},
   "outputs": [
    {
     "data": {
      "text/plain": [
       "np.float64(-44.33657396482944)"
      ]
     },
     "execution_count": 37,
     "metadata": {},
     "output_type": "execute_result"
    }
   ],
   "source": [
    "constant_2 = -0.5*(np.matmul(np.matmul(mean2.transpose(),inv_cov_versicolor),mean2)) -0.5*(math.log(np.linalg.det(cov_versicolor)))\n",
    "constant_2"
   ]
  },
  {
   "cell_type": "code",
   "execution_count": 38,
   "id": "bc2530a2-088c-4cc2-9468-08a5c56291e9",
   "metadata": {},
   "outputs": [
    {
     "data": {
      "text/plain": [
       "np.float64(-51.8525779891474)"
      ]
     },
     "execution_count": 38,
     "metadata": {},
     "output_type": "execute_result"
    }
   ],
   "source": [
    "constant_3 = -0.5*(np.matmul(np.matmul(mean3.transpose(),inv_cov_virginica),mean3)) -0.5*(math.log(np.linalg.det(cov_virginica)))\n",
    "constant_3"
   ]
  },
  {
   "cell_type": "markdown",
   "id": "bd300a42-010d-4392-b543-e31af0eae718",
   "metadata": {},
   "source": [
    "## OBTAINING EQUATIONS OF DECISION BOUNDARIES AND PLOTTING"
   ]
  },
  {
   "cell_type": "code",
   "execution_count": 39,
   "id": "81456c03-19af-4cd9-b9df-e6dad9a6884b",
   "metadata": {},
   "outputs": [
    {
     "name": "stdout",
     "output_type": "stream",
     "text": [
      "The equation of the decision boundary between setosa and versicolor is: -12.066346551527735x1^2 + -27.200863774897336x2^2 + -2.539369576863937x1x2 + 23.560949214044484x1 + 11.604928342176727x2 + 12.504346924919144 = 0\n"
     ]
    }
   ],
   "source": [
    "print(f\"The equation of the decision boundary between setosa and versicolor is: {x1_squared_coefficient_1 - x1_squared_coefficient_2}x1^2 + {x2_squared_coefficient_1 - x2_squared_coefficient_2}x2^2 + {x1_x2_coefficient_1 - x1_x2_coefficient_2}x1x2 + {x1_coefficient_1 - x1_coefficient_2}x1 + {x2_coefficient_1 - x2_coefficient_2}x2 + {constant_1 - constant_2} = 0\")"
   ]
  },
  {
   "cell_type": "code",
   "execution_count": 40,
   "id": "157fae39-eba1-471e-8cab-5f05ab8589b4",
   "metadata": {},
   "outputs": [
    {
     "name": "stdout",
     "output_type": "stream",
     "text": [
      "The equation of the decision boundary between versicolor and virginica is: -4.783714202706454x1^2 + -22.72716218882926x2^2 + 19.43574582336319x1x2 + 12.455195744742909x1 + -29.081573452440665x2 + 7.516004024317958 = 0\n"
     ]
    }
   ],
   "source": [
    "print(f\"The equation of the decision boundary between versicolor and virginica is: {x1_squared_coefficient_2 - x1_squared_coefficient_3}x1^2 + {x2_squared_coefficient_2 - x2_squared_coefficient_3}x2^2 + {x1_x2_coefficient_2 - x1_x2_coefficient_3}x1x2 + {x1_coefficient_2 - x1_coefficient_3}x1 + {x2_coefficient_2 - x2_coefficient_3}x2 + {constant_2 - constant_3} = 0\")"
   ]
  },
  {
   "cell_type": "code",
   "execution_count": 41,
   "id": "571792b2-fe19-4ca3-8a23-dc92c4123930",
   "metadata": {},
   "outputs": [
    {
     "name": "stdout",
     "output_type": "stream",
     "text": [
      "The equation of the decision boundary between setosa and virginica is: -16.85006075423419x1^2 + -49.9280259637266x2^2 + 16.89637624649926x1x2 + 36.01614495878739x1 + -17.47664511026394x2 + 20.020350949237102 = 0\n"
     ]
    }
   ],
   "source": [
    "print(f\"The equation of the decision boundary between setosa and virginica is: {x1_squared_coefficient_1 - x1_squared_coefficient_3}x1^2 + {x2_squared_coefficient_1 - x2_squared_coefficient_3}x2^2 + {x1_x2_coefficient_1 - x1_x2_coefficient_3}x1x2 + {x1_coefficient_1 - x1_coefficient_3}x1 + {x2_coefficient_1 - x2_coefficient_3}x2 + {constant_1 - constant_3} = 0\")"
   ]
  },
  {
   "cell_type": "code",
   "execution_count": 42,
   "id": "68bfd725-d4ca-4a21-835d-fd21260ae024",
   "metadata": {},
   "outputs": [
    {
     "data": {
      "image/png": "[encoded data removed]",
      "text/plain": [
       "<Figure size 640x480 with 1 Axes>"
      ]
     },
     "metadata": {},
     "output_type": "display_data"
    }
   ],
   "source": [
    "#We plot three decision boundaries for (Setosa,Versicolor), (Versicolor,Viginica) and (Setosa,Virginica) as follows.\n",
    "\n",
    "a = -12.066346551527737    \n",
    "b = -27.200863774897336    \n",
    "c = -2.5393695768639404    \n",
    "d = 23.560949214044484     \n",
    "e = 11.60492834217672      \n",
    "f = 12.504346924919137    \n",
    "\n",
    "\n",
    "x1_vals = np.linspace(1, 7, 400)  \n",
    "x2_vals = np.linspace(0, 3, 400)  \n",
    "x1, x2 = np.meshgrid(x1_vals, x2_vals)\n",
    "\n",
    "\n",
    "boundary_eq = a * x1**2 + b * x2**2 + c * x1 * x2 + d * x1 + e * x2 + f\n",
    "\n",
    "\n",
    "fig, ax = plt.subplots()\n",
    "\n",
    "\n",
    "setosa_variety.plot(kind=\"scatter\", x=\"petal.length\", y=\"petal.width\", color='blue', label='setosa', ax=ax)\n",
    "versicolor_variety.plot(kind=\"scatter\", x=\"petal.length\", y=\"petal.width\", color='red', label='versicolor', ax=ax)\n",
    "virginica_variety.plot(kind=\"scatter\", x=\"petal.length\", y=\"petal.width\", color='green', label='virginica', ax=ax)\n",
    "\n",
    "\n",
    "contour = ax.contour(x1, x2, boundary_eq, levels=[0], colors='black', linewidths=2)\n",
    "\n",
    "a = -4.783714202706453\n",
    "b = -22.72716218882926\n",
    "c = 19.43574582336319\n",
    "d = 12.455195744742909\n",
    "e = -29.08157345244066\n",
    "f = 7.516004024317951\n",
    "\n",
    "x1_vals = np.linspace(1, 7, 400)  \n",
    "x2_vals = np.linspace(0, 3, 400)  \n",
    "x1, x2 = np.meshgrid(x1_vals, x2_vals)\n",
    "\n",
    "boundary_eq = a * x1**2 + b * x2**2 + c * x1 * x2 + d * x1 + e * x2 + f\n",
    "\n",
    "contour = ax.contour(x1, x2, boundary_eq, levels=[0], colors='purple', linewidths=2)\n",
    "\n",
    "\n",
    "a = -16.85006075423419\n",
    "b = -49.9280259637266\n",
    "c = 16.89637624649925\n",
    "d = 36.01614495878739\n",
    "e = -17.47664511026394\n",
    "f = 20.020350949237088\n",
    "\n",
    "x1_vals = np.linspace(1, 7, 400)  \n",
    "x2_vals = np.linspace(0, 3, 400)  \n",
    "x1, x2 = np.meshgrid(x1_vals, x2_vals)\n",
    "\n",
    "boundary_eq = a * x1**2 + b * x2**2 + c * x1 * x2 + d * x1 + e * x2 + f\n",
    "\n",
    "contour = ax.contour(x1, x2, boundary_eq, levels=[0], colors='pink', linewidths=2)\n",
    "\n",
    "\n",
    "\n",
    "plt.xlabel(\"Petal Length\")\n",
    "plt.ylabel(\"Petal Width\")\n",
    "plt.title(\"Decision Boundary between Setosa and Versicolor and Virginica\")\n",
    "\n",
    "\n",
    "plt.grid(True)\n",
    "plt.legend()\n",
    "plt.show()"
   ]
  },
  {
   "cell_type": "markdown",
   "id": "ca77d85f-e2a8-4f69-a26c-dff7a7fd485c",
   "metadata": {},
   "source": [
    "## BAYES CLASSIFICATION"
   ]
  },
  {
   "cell_type": "code",
   "execution_count": 43,
   "id": "18618aee-6535-49f1-a2e1-50d1d067c084",
   "metadata": {},
   "outputs": [
    {
     "data": {
      "text/html": [
       "<div>\n",
       "<style scoped>\n",
       "    .dataframe tbody tr th:only-of-type {\n",
       "        vertical-align: middle;\n",
       "    }\n",
       "\n",
       "    .dataframe tbody tr th {\n",
       "        vertical-align: top;\n",
       "    }\n",
       "\n",
       "    .dataframe thead th {\n",
       "        text-align: right;\n",
       "    }\n",
       "</style>\n",
       "<table border=\"1\" class=\"dataframe\">\n",
       "  <thead>\n",
       "    <tr style=\"text-align: right;\">\n",
       "      <th></th>\n",
       "      <th>petal.length</th>\n",
       "      <th>petal.width</th>\n",
       "    </tr>\n",
       "  </thead>\n",
       "  <tbody>\n",
       "    <tr>\n",
       "      <th>40</th>\n",
       "      <td>1.3</td>\n",
       "      <td>0.3</td>\n",
       "    </tr>\n",
       "    <tr>\n",
       "      <th>41</th>\n",
       "      <td>1.3</td>\n",
       "      <td>0.3</td>\n",
       "    </tr>\n",
       "    <tr>\n",
       "      <th>42</th>\n",
       "      <td>1.3</td>\n",
       "      <td>0.2</td>\n",
       "    </tr>\n",
       "    <tr>\n",
       "      <th>43</th>\n",
       "      <td>1.6</td>\n",
       "      <td>0.6</td>\n",
       "    </tr>\n",
       "    <tr>\n",
       "      <th>44</th>\n",
       "      <td>1.9</td>\n",
       "      <td>0.4</td>\n",
       "    </tr>\n",
       "    <tr>\n",
       "      <th>45</th>\n",
       "      <td>1.4</td>\n",
       "      <td>0.3</td>\n",
       "    </tr>\n",
       "    <tr>\n",
       "      <th>46</th>\n",
       "      <td>1.6</td>\n",
       "      <td>0.2</td>\n",
       "    </tr>\n",
       "    <tr>\n",
       "      <th>47</th>\n",
       "      <td>1.4</td>\n",
       "      <td>0.2</td>\n",
       "    </tr>\n",
       "    <tr>\n",
       "      <th>48</th>\n",
       "      <td>1.5</td>\n",
       "      <td>0.2</td>\n",
       "    </tr>\n",
       "    <tr>\n",
       "      <th>49</th>\n",
       "      <td>1.4</td>\n",
       "      <td>0.2</td>\n",
       "    </tr>\n",
       "  </tbody>\n",
       "</table>\n",
       "</div>"
      ],
      "text/plain": [
       "    petal.length  petal.width\n",
       "40           1.3          0.3\n",
       "41           1.3          0.3\n",
       "42           1.3          0.2\n",
       "43           1.6          0.6\n",
       "44           1.9          0.4\n",
       "45           1.4          0.3\n",
       "46           1.6          0.2\n",
       "47           1.4          0.2\n",
       "48           1.5          0.2\n",
       "49           1.4          0.2"
      ]
     },
     "execution_count": 43,
     "metadata": {},
     "output_type": "execute_result"
    }
   ],
   "source": [
    "testing_sample = df[df[\"variety\"] == \"Setosa\"][[\"petal.length\",\"petal.width\"]].iloc[40:] #testing data for the setosa class\n",
    "testing_sample"
   ]
  },
  {
   "cell_type": "code",
   "execution_count": 44,
   "id": "349e9626-1760-461e-afe1-f9bfb27176a2",
   "metadata": {},
   "outputs": [
    {
     "name": "stdout",
     "output_type": "stream",
     "text": [
      "Class is Setosa\n",
      "Class is Setosa\n",
      "Class is Setosa\n",
      "Class is Setosa\n",
      "Class is Setosa\n",
      "Class is Setosa\n",
      "Class is Setosa\n",
      "Class is Setosa\n",
      "Class is Setosa\n",
      "Class is Setosa\n"
     ]
    }
   ],
   "source": [
    "#100%efficient classification\n",
    "for i in testing_sample.index:\n",
    "    petal_length = testing_sample.loc[i, \"petal.length\"]\n",
    "    petal_width = testing_sample.loc[i, \"petal.width\"]\n",
    "\n",
    "    if (-12.066346551527737*(petal_length)**2 - 27.200863774897336*(petal_width)**2 - \n",
    "        2.5393695768639404*(petal_length*petal_width) + 23.560949214044484*petal_length + \n",
    "        11.60492834217672*petal_width + 12.504346924919137 > 0 and \n",
    "        -16.85006075423419*(petal_length)**2 - 49.9280259637266*(petal_width)**2 + \n",
    "        16.89637624649925*(petal_length*petal_width) + 36.01614495878739*petal_length - \n",
    "        17.47664511026394*petal_width + 20.020350949237088 > 0):\n",
    "        print(\"Class is Setosa\")"
   ]
  },
  {
   "cell_type": "code",
   "execution_count": 45,
   "id": "ae100b26-bae5-4cea-86eb-b06fb9a2590d",
   "metadata": {},
   "outputs": [
    {
     "data": {
      "text/html": [
       "<div>\n",
       "<style scoped>\n",
       "    .dataframe tbody tr th:only-of-type {\n",
       "        vertical-align: middle;\n",
       "    }\n",
       "\n",
       "    .dataframe tbody tr th {\n",
       "        vertical-align: top;\n",
       "    }\n",
       "\n",
       "    .dataframe thead th {\n",
       "        text-align: right;\n",
       "    }\n",
       "</style>\n",
       "<table border=\"1\" class=\"dataframe\">\n",
       "  <thead>\n",
       "    <tr style=\"text-align: right;\">\n",
       "      <th></th>\n",
       "      <th>petal.length</th>\n",
       "      <th>petal.width</th>\n",
       "    </tr>\n",
       "  </thead>\n",
       "  <tbody>\n",
       "    <tr>\n",
       "      <th>90</th>\n",
       "      <td>4.4</td>\n",
       "      <td>1.2</td>\n",
       "    </tr>\n",
       "    <tr>\n",
       "      <th>91</th>\n",
       "      <td>4.6</td>\n",
       "      <td>1.4</td>\n",
       "    </tr>\n",
       "    <tr>\n",
       "      <th>92</th>\n",
       "      <td>4.0</td>\n",
       "      <td>1.2</td>\n",
       "    </tr>\n",
       "    <tr>\n",
       "      <th>93</th>\n",
       "      <td>3.3</td>\n",
       "      <td>1.0</td>\n",
       "    </tr>\n",
       "    <tr>\n",
       "      <th>94</th>\n",
       "      <td>4.2</td>\n",
       "      <td>1.3</td>\n",
       "    </tr>\n",
       "    <tr>\n",
       "      <th>95</th>\n",
       "      <td>4.2</td>\n",
       "      <td>1.2</td>\n",
       "    </tr>\n",
       "    <tr>\n",
       "      <th>96</th>\n",
       "      <td>4.2</td>\n",
       "      <td>1.3</td>\n",
       "    </tr>\n",
       "    <tr>\n",
       "      <th>97</th>\n",
       "      <td>4.3</td>\n",
       "      <td>1.3</td>\n",
       "    </tr>\n",
       "    <tr>\n",
       "      <th>98</th>\n",
       "      <td>3.0</td>\n",
       "      <td>1.1</td>\n",
       "    </tr>\n",
       "    <tr>\n",
       "      <th>99</th>\n",
       "      <td>4.1</td>\n",
       "      <td>1.3</td>\n",
       "    </tr>\n",
       "  </tbody>\n",
       "</table>\n",
       "</div>"
      ],
      "text/plain": [
       "    petal.length  petal.width\n",
       "90           4.4          1.2\n",
       "91           4.6          1.4\n",
       "92           4.0          1.2\n",
       "93           3.3          1.0\n",
       "94           4.2          1.3\n",
       "95           4.2          1.2\n",
       "96           4.2          1.3\n",
       "97           4.3          1.3\n",
       "98           3.0          1.1\n",
       "99           4.1          1.3"
      ]
     },
     "execution_count": 45,
     "metadata": {},
     "output_type": "execute_result"
    }
   ],
   "source": [
    "testing_sample = df[df[\"variety\"] == \"Versicolor\"][[\"petal.length\",\"petal.width\"]].iloc[40:]  #testing data for versicolor class\n",
    "testing_sample\n"
   ]
  },
  {
   "cell_type": "code",
   "execution_count": 46,
   "id": "1f12f65c-83c0-4467-8e98-a620e6254613",
   "metadata": {},
   "outputs": [
    {
     "name": "stdout",
     "output_type": "stream",
     "text": [
      "Class is Versicolor\n",
      "Class is Versicolor\n",
      "Class is Versicolor\n",
      "Class is Versicolor\n",
      "Class is Versicolor\n",
      "Class is Versicolor\n",
      "Class is Versicolor\n",
      "Class is Versicolor\n",
      "Class is Versicolor\n",
      "Class is Versicolor\n"
     ]
    }
   ],
   "source": [
    "#100% efficient classification\n",
    "for i in testing_sample.index:\n",
    "    petal_length = testing_sample.loc[i, \"petal.length\"]\n",
    "    petal_width = testing_sample.loc[i, \"petal.width\"]\n",
    "\n",
    "    if (-12.066346551527737*(petal_length)**2 - 27.200863774897336*(petal_width)**2 - \n",
    "        2.5393695768639404*(petal_length*petal_width) + 23.560949214044484*petal_length + \n",
    "        11.60492834217672*petal_width + 12.504346924919137 < 0 and \n",
    "        -4.783714202706453*(petal_length)**2 -22.72716218882926 *(petal_width)**2 + \n",
    "        19.43574582336319*(petal_length*petal_width) + 12.455195744742909*petal_length - \n",
    "        -29.08157345244066*petal_width + 7.516004024317951 > 0):\n",
    "        print(\"Class is Versicolor\")\n",
    "\n",
    "\n",
    "\n"
   ]
  },
  {
   "cell_type": "code",
   "execution_count": 47,
   "id": "d0651ee2-d126-4096-834c-aa6153505703",
   "metadata": {},
   "outputs": [
    {
     "data": {
      "text/html": [
       "<div>\n",
       "<style scoped>\n",
       "    .dataframe tbody tr th:only-of-type {\n",
       "        vertical-align: middle;\n",
       "    }\n",
       "\n",
       "    .dataframe tbody tr th {\n",
       "        vertical-align: top;\n",
       "    }\n",
       "\n",
       "    .dataframe thead th {\n",
       "        text-align: right;\n",
       "    }\n",
       "</style>\n",
       "<table border=\"1\" class=\"dataframe\">\n",
       "  <thead>\n",
       "    <tr style=\"text-align: right;\">\n",
       "      <th></th>\n",
       "      <th>petal.length</th>\n",
       "      <th>petal.width</th>\n",
       "    </tr>\n",
       "  </thead>\n",
       "  <tbody>\n",
       "    <tr>\n",
       "      <th>140</th>\n",
       "      <td>5.6</td>\n",
       "      <td>2.4</td>\n",
       "    </tr>\n",
       "    <tr>\n",
       "      <th>141</th>\n",
       "      <td>5.1</td>\n",
       "      <td>2.3</td>\n",
       "    </tr>\n",
       "    <tr>\n",
       "      <th>142</th>\n",
       "      <td>5.1</td>\n",
       "      <td>1.9</td>\n",
       "    </tr>\n",
       "    <tr>\n",
       "      <th>143</th>\n",
       "      <td>5.9</td>\n",
       "      <td>2.3</td>\n",
       "    </tr>\n",
       "    <tr>\n",
       "      <th>144</th>\n",
       "      <td>5.7</td>\n",
       "      <td>2.5</td>\n",
       "    </tr>\n",
       "    <tr>\n",
       "      <th>145</th>\n",
       "      <td>5.2</td>\n",
       "      <td>2.3</td>\n",
       "    </tr>\n",
       "    <tr>\n",
       "      <th>146</th>\n",
       "      <td>5.0</td>\n",
       "      <td>1.9</td>\n",
       "    </tr>\n",
       "    <tr>\n",
       "      <th>147</th>\n",
       "      <td>5.2</td>\n",
       "      <td>2.0</td>\n",
       "    </tr>\n",
       "    <tr>\n",
       "      <th>148</th>\n",
       "      <td>5.4</td>\n",
       "      <td>2.3</td>\n",
       "    </tr>\n",
       "    <tr>\n",
       "      <th>149</th>\n",
       "      <td>5.1</td>\n",
       "      <td>1.8</td>\n",
       "    </tr>\n",
       "  </tbody>\n",
       "</table>\n",
       "</div>"
      ],
      "text/plain": [
       "     petal.length  petal.width\n",
       "140           5.6          2.4\n",
       "141           5.1          2.3\n",
       "142           5.1          1.9\n",
       "143           5.9          2.3\n",
       "144           5.7          2.5\n",
       "145           5.2          2.3\n",
       "146           5.0          1.9\n",
       "147           5.2          2.0\n",
       "148           5.4          2.3\n",
       "149           5.1          1.8"
      ]
     },
     "execution_count": 47,
     "metadata": {},
     "output_type": "execute_result"
    }
   ],
   "source": [
    "testing_sample = df[df[\"variety\"] == \"Virginica\"][[\"petal.length\",\"petal.width\"]].iloc[40:]  #testing sample for virginica class\n",
    "testing_sample"
   ]
  },
  {
   "cell_type": "code",
   "execution_count": 48,
   "id": "115615e4-a852-47cd-89d3-d8bb13e154d1",
   "metadata": {},
   "outputs": [
    {
     "name": "stdout",
     "output_type": "stream",
     "text": [
      "Class is Versicolor\n",
      "Class is Versicolor\n",
      "Class is Versicolor\n",
      "Class is Versicolor\n",
      "Class is Versicolor\n",
      "Class is Versicolor\n",
      "Class is Versicolor\n",
      "Class is Versicolor\n",
      "Class is Versicolor\n",
      "Class is Versicolor\n"
     ]
    }
   ],
   "source": [
    "#0% efficiency i classification\n",
    "for i in testing_sample.index:   \n",
    "    petal_length = testing_sample.loc[i, \"petal.length\"]\n",
    "    petal_width = testing_sample.loc[i, \"petal.width\"]\n",
    "\n",
    "    if (-4.783714202706453*(petal_length)**2 -22.72716218882926 *(petal_width)**2 + \n",
    "        19.43574582336319*(petal_length*petal_width) + 12.455195744742909*petal_length - \n",
    "        -29.08157345244066*petal_width + 7.516004024317951 < 0 and \n",
    "        -16.85006075423419*(petal_length)**2 - 49.9280259637266*(petal_width)**2 + \n",
    "        16.89637624649925*(petal_length*petal_width) + 36.01614495878739*petal_length - \n",
    "        17.47664511026394*petal_width + 20.020350949237088 < 0):\n",
    "        print(\"Class is Virginica\")\n",
    "    elif (-12.066346551527737*(petal_length)**2 - 27.200863774897336*(petal_width)**2 - \n",
    "        2.5393695768639404*(petal_length*petal_width) + 23.560949214044484*petal_length + \n",
    "        11.60492834217672*petal_width + 12.504346924919137 < 0 and \n",
    "        -4.783714202706453*(petal_length)**2 -22.72716218882926 *(petal_width)**2 + \n",
    "        19.43574582336319*(petal_length*petal_width) + 12.455195744742909*petal_length - \n",
    "        -29.08157345244066*petal_width + 7.516004024317951 > 0):\n",
    "        print(\"Class is Versicolor\")"
   ]
  },
  {
   "cell_type": "code",
   "execution_count": null,
   "id": "580879c7-d43a-49c5-8dc6-5ac5e766bd7d",
   "metadata": {},
   "outputs": [],
   "source": []
  }
 ],
 "metadata": {
  "kernelspec": {
   "display_name": "Python 3 (ipykernel)",
   "language": "python",
   "name": "python3"
  },
  "language_info": {
   "codemirror_mode": {
    "name": "ipython",
    "version": 3
   },
   "file_extension": ".py",
   "mimetype": "text/x-python",
   "name": "python",
   "nbconvert_exporter": "python",
   "pygments_lexer": "ipython3",
   "version": "3.13.1"
  }
 },
 "nbformat": 4,
 "nbformat_minor": 5
}
