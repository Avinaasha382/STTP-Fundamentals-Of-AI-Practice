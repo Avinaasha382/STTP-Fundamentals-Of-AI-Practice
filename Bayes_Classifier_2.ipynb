{
 "cells": [
  {
   "cell_type": "code",
   "execution_count": 1,
   "id": "19067597-1057-4cb8-bba5-d5dc32b7e4c4",
   "metadata": {},
   "outputs": [],
   "source": [
    "import pandas as pd\n",
    "import matplotlib.pyplot as plt\n",
    "import numpy as np\n",
    "import math"
   ]
  },
  {
   "cell_type": "code",
   "execution_count": 2,
   "id": "e6f1bc85-27d1-412d-a57d-0f2b8962af3d",
   "metadata": {},
   "outputs": [
    {
     "data": {
      "text/html": [
       "<div>\n",
       "<style scoped>\n",
       "    .dataframe tbody tr th:only-of-type {\n",
       "        vertical-align: middle;\n",
       "    }\n",
       "\n",
       "    .dataframe tbody tr th {\n",
       "        vertical-align: top;\n",
       "    }\n",
       "\n",
       "    .dataframe thead th {\n",
       "        text-align: right;\n",
       "    }\n",
       "</style>\n",
       "<table border=\"1\" class=\"dataframe\">\n",
       "  <thead>\n",
       "    <tr style=\"text-align: right;\">\n",
       "      <th></th>\n",
       "      <th>c1</th>\n",
       "      <th>c2</th>\n",
       "    </tr>\n",
       "  </thead>\n",
       "  <tbody>\n",
       "    <tr>\n",
       "      <th>0</th>\n",
       "      <td>1</td>\n",
       "      <td>-1</td>\n",
       "    </tr>\n",
       "    <tr>\n",
       "      <th>1</th>\n",
       "      <td>2</td>\n",
       "      <td>-5</td>\n",
       "    </tr>\n",
       "    <tr>\n",
       "      <th>2</th>\n",
       "      <td>3</td>\n",
       "      <td>-6</td>\n",
       "    </tr>\n",
       "    <tr>\n",
       "      <th>3</th>\n",
       "      <td>4</td>\n",
       "      <td>-10</td>\n",
       "    </tr>\n",
       "    <tr>\n",
       "      <th>4</th>\n",
       "      <td>5</td>\n",
       "      <td>-12</td>\n",
       "    </tr>\n",
       "    <tr>\n",
       "      <th>5</th>\n",
       "      <td>6</td>\n",
       "      <td>-15</td>\n",
       "    </tr>\n",
       "  </tbody>\n",
       "</table>\n",
       "</div>"
      ],
      "text/plain": [
       "   c1  c2\n",
       "0   1  -1\n",
       "1   2  -5\n",
       "2   3  -6\n",
       "3   4 -10\n",
       "4   5 -12\n",
       "5   6 -15"
      ]
     },
     "execution_count": 2,
     "metadata": {},
     "output_type": "execute_result"
    }
   ],
   "source": [
    "df1 = pd.DataFrame(   #converting input data to pandas dataframe\n",
    "    {\n",
    "        \"c1\":[1,2,3,4,5,6],\n",
    "        \"c2\":[-1,-5,-6,-10,-12,-15]\n",
    "    }\n",
    ")\n",
    "df1"
   ]
  },
  {
   "cell_type": "code",
   "execution_count": 3,
   "id": "172f1be1-e805-40bc-bc0e-a74fc4330a14",
   "metadata": {},
   "outputs": [
    {
     "data": {
      "text/html": [
       "<div>\n",
       "<style scoped>\n",
       "    .dataframe tbody tr th:only-of-type {\n",
       "        vertical-align: middle;\n",
       "    }\n",
       "\n",
       "    .dataframe tbody tr th {\n",
       "        vertical-align: top;\n",
       "    }\n",
       "\n",
       "    .dataframe thead th {\n",
       "        text-align: right;\n",
       "    }\n",
       "</style>\n",
       "<table border=\"1\" class=\"dataframe\">\n",
       "  <thead>\n",
       "    <tr style=\"text-align: right;\">\n",
       "      <th></th>\n",
       "      <th>c1</th>\n",
       "      <th>c2</th>\n",
       "    </tr>\n",
       "  </thead>\n",
       "  <tbody>\n",
       "    <tr>\n",
       "      <th>0</th>\n",
       "      <td>-1</td>\n",
       "      <td>1</td>\n",
       "    </tr>\n",
       "    <tr>\n",
       "      <th>1</th>\n",
       "      <td>-2</td>\n",
       "      <td>5</td>\n",
       "    </tr>\n",
       "    <tr>\n",
       "      <th>2</th>\n",
       "      <td>-3</td>\n",
       "      <td>6</td>\n",
       "    </tr>\n",
       "    <tr>\n",
       "      <th>3</th>\n",
       "      <td>-4</td>\n",
       "      <td>10</td>\n",
       "    </tr>\n",
       "    <tr>\n",
       "      <th>4</th>\n",
       "      <td>-5</td>\n",
       "      <td>12</td>\n",
       "    </tr>\n",
       "    <tr>\n",
       "      <th>5</th>\n",
       "      <td>-6</td>\n",
       "      <td>15</td>\n",
       "    </tr>\n",
       "  </tbody>\n",
       "</table>\n",
       "</div>"
      ],
      "text/plain": [
       "   c1  c2\n",
       "0  -1   1\n",
       "1  -2   5\n",
       "2  -3   6\n",
       "3  -4  10\n",
       "4  -5  12\n",
       "5  -6  15"
      ]
     },
     "execution_count": 3,
     "metadata": {},
     "output_type": "execute_result"
    }
   ],
   "source": [
    "df2 = pd.DataFrame(   #converting input data to pandas dataframe\n",
    "    {\n",
    "        \"c1\":[-1,-2,-3,-4,-5,-6],\n",
    "        \"c2\":[1,5,6,10,12,15]\n",
    "    }\n",
    ")\n",
    "df2"
   ]
  },
  {
   "cell_type": "markdown",
   "id": "a0d54d53-7a89-4b73-8168-f8c34b650701",
   "metadata": {},
   "source": [
    "## FINDING THE COVARIANCE MATRICES"
   ]
  },
  {
   "cell_type": "code",
   "execution_count": 4,
   "id": "6742d1f3-295d-4857-9d5d-7b84f638fabe",
   "metadata": {},
   "outputs": [
    {
     "data": {
      "text/html": [
       "<div>\n",
       "<style scoped>\n",
       "    .dataframe tbody tr th:only-of-type {\n",
       "        vertical-align: middle;\n",
       "    }\n",
       "\n",
       "    .dataframe tbody tr th {\n",
       "        vertical-align: top;\n",
       "    }\n",
       "\n",
       "    .dataframe thead th {\n",
       "        text-align: right;\n",
       "    }\n",
       "</style>\n",
       "<table border=\"1\" class=\"dataframe\">\n",
       "  <thead>\n",
       "    <tr style=\"text-align: right;\">\n",
       "      <th></th>\n",
       "      <th>c1</th>\n",
       "      <th>c2</th>\n",
       "    </tr>\n",
       "  </thead>\n",
       "  <tbody>\n",
       "    <tr>\n",
       "      <th>c1</th>\n",
       "      <td>3.5</td>\n",
       "      <td>-9.500000</td>\n",
       "    </tr>\n",
       "    <tr>\n",
       "      <th>c2</th>\n",
       "      <td>-9.5</td>\n",
       "      <td>26.166667</td>\n",
       "    </tr>\n",
       "  </tbody>\n",
       "</table>\n",
       "</div>"
      ],
      "text/plain": [
       "     c1         c2\n",
       "c1  3.5  -9.500000\n",
       "c2 -9.5  26.166667"
      ]
     },
     "execution_count": 4,
     "metadata": {},
     "output_type": "execute_result"
    }
   ],
   "source": [
    "cov1 = df1.cov()  #computing the covariance matrix\n",
    "cov1"
   ]
  },
  {
   "cell_type": "code",
   "execution_count": 5,
   "id": "0ecc497f-0eb9-448a-a904-00ca1b681c7e",
   "metadata": {},
   "outputs": [
    {
     "data": {
      "text/html": [
       "<div>\n",
       "<style scoped>\n",
       "    .dataframe tbody tr th:only-of-type {\n",
       "        vertical-align: middle;\n",
       "    }\n",
       "\n",
       "    .dataframe tbody tr th {\n",
       "        vertical-align: top;\n",
       "    }\n",
       "\n",
       "    .dataframe thead th {\n",
       "        text-align: right;\n",
       "    }\n",
       "</style>\n",
       "<table border=\"1\" class=\"dataframe\">\n",
       "  <thead>\n",
       "    <tr style=\"text-align: right;\">\n",
       "      <th></th>\n",
       "      <th>c1</th>\n",
       "      <th>c2</th>\n",
       "    </tr>\n",
       "  </thead>\n",
       "  <tbody>\n",
       "    <tr>\n",
       "      <th>c1</th>\n",
       "      <td>3.5</td>\n",
       "      <td>-9.500000</td>\n",
       "    </tr>\n",
       "    <tr>\n",
       "      <th>c2</th>\n",
       "      <td>-9.5</td>\n",
       "      <td>26.166667</td>\n",
       "    </tr>\n",
       "  </tbody>\n",
       "</table>\n",
       "</div>"
      ],
      "text/plain": [
       "     c1         c2\n",
       "c1  3.5  -9.500000\n",
       "c2 -9.5  26.166667"
      ]
     },
     "execution_count": 5,
     "metadata": {},
     "output_type": "execute_result"
    }
   ],
   "source": [
    "cov2 = df2.cov()   #computing the covariance mateix\n",
    "cov2"
   ]
  },
  {
   "cell_type": "code",
   "execution_count": 6,
   "id": "ca39afd3-2a96-46e7-9213-d665a1defbd6",
   "metadata": {},
   "outputs": [
    {
     "data": {
      "text/plain": [
       "array([[19.625,  7.125],\n",
       "       [ 7.125,  2.625]])"
      ]
     },
     "execution_count": 6,
     "metadata": {},
     "output_type": "execute_result"
    }
   ],
   "source": [
    "inverse_cov = np.linalg.inv(cov1)  #inverse of the covariance matrix\n",
    "inverse_cov"
   ]
  },
  {
   "cell_type": "markdown",
   "id": "63360693-223a-4162-b8d3-cf1b9a43ebc6",
   "metadata": {},
   "source": [
    "# CASE 2 OF BAYES CLASSIFIER"
   ]
  },
  {
   "cell_type": "code",
   "execution_count": 7,
   "id": "bc4d24ef-1556-4cbe-b157-84d1c61e385d",
   "metadata": {},
   "outputs": [
    {
     "data": {
      "text/plain": [
       "c1    3.500000\n",
       "c2   -8.166667\n",
       "dtype: float64"
      ]
     },
     "execution_count": 7,
     "metadata": {},
     "output_type": "execute_result"
    }
   ],
   "source": [
    "mean1 = df1.mean()   #computing the mean vector\n",
    "mean1"
   ]
  },
  {
   "cell_type": "code",
   "execution_count": 8,
   "id": "896b33a9-2f13-4c6f-a2df-2090cdcd4315",
   "metadata": {},
   "outputs": [
    {
     "data": {
      "text/plain": [
       "c1   -3.500000\n",
       "c2    8.166667\n",
       "dtype: float64"
      ]
     },
     "execution_count": 8,
     "metadata": {},
     "output_type": "execute_result"
    }
   ],
   "source": [
    "mean2 = df2.mean()   #computing the mean vector\n",
    "mean2"
   ]
  },
  {
   "cell_type": "code",
   "execution_count": 9,
   "id": "2af4936c-4424-46ab-976f-3e27936b7f02",
   "metadata": {},
   "outputs": [
    {
     "data": {
      "text/plain": [
       "array([10.5,  3.5])"
      ]
     },
     "execution_count": 9,
     "metadata": {},
     "output_type": "execute_result"
    }
   ],
   "source": [
    "x_coefficient_1 = np.matmul(inverse_cov,mean1)\n",
    "x_coefficient_1"
   ]
  },
  {
   "cell_type": "code",
   "execution_count": 10,
   "id": "05c8b961-7f15-4989-ae0b-c121d313147a",
   "metadata": {},
   "outputs": [
    {
     "data": {
      "text/plain": [
       "array([-10.5,  -3.5])"
      ]
     },
     "execution_count": 10,
     "metadata": {},
     "output_type": "execute_result"
    }
   ],
   "source": [
    "x_coefficient_2 = np.matmul(inverse_cov,mean2)\n",
    "x_coefficient_2"
   ]
  },
  {
   "cell_type": "code",
   "execution_count": 11,
   "id": "5f1aa774-4b96-4565-ac83-a01b1abb27d9",
   "metadata": {},
   "outputs": [
    {
     "data": {
      "text/plain": [
       "np.float64(-5.287306137659314)"
      ]
     },
     "execution_count": 11,
     "metadata": {},
     "output_type": "execute_result"
    }
   ],
   "source": [
    "constant1 = -0.5*(np.matmul(np.matmul(mean1.transpose(),inverse_cov),mean1)) + math.log(0.3)\n",
    "constant1"
   ]
  },
  {
   "cell_type": "code",
   "execution_count": 12,
   "id": "144dea58-82b8-487a-9b99-263d952818ef",
   "metadata": {},
   "outputs": [
    {
     "data": {
      "text/plain": [
       "np.float64(-4.440008277272111)"
      ]
     },
     "execution_count": 12,
     "metadata": {},
     "output_type": "execute_result"
    }
   ],
   "source": [
    "constant2 = -0.5*(np.matmul(np.matmul(mean2.transpose(),inverse_cov),mean2)) + math.log(0.7)\n",
    "constant2"
   ]
  },
  {
   "cell_type": "code",
   "execution_count": 13,
   "id": "84297191-ee92-4810-bcba-9a9322d40fd3",
   "metadata": {},
   "outputs": [
    {
     "data": {
      "text/plain": [
       "np.float64(21.000000000000213)"
      ]
     },
     "execution_count": 13,
     "metadata": {},
     "output_type": "execute_result"
    }
   ],
   "source": [
    "res_x1_coefficient = x_coefficient_1[0] - x_coefficient_2[0]\n",
    "res_x1_coefficient"
   ]
  },
  {
   "cell_type": "code",
   "execution_count": 14,
   "id": "b65f9c21-d033-442c-b1bb-1362a22db4fe",
   "metadata": {},
   "outputs": [
    {
     "data": {
      "text/plain": [
       "np.float64(7.000000000000074)"
      ]
     },
     "execution_count": 14,
     "metadata": {},
     "output_type": "execute_result"
    }
   ],
   "source": [
    "res_x2_coefficient = x_coefficient_1[1] - x_coefficient_2[1]\n",
    "res_x2_coefficient"
   ]
  },
  {
   "cell_type": "code",
   "execution_count": 15,
   "id": "9aeab2d3-4cdb-4ae4-90ff-206efeeee613",
   "metadata": {},
   "outputs": [
    {
     "data": {
      "text/plain": [
       "np.float64(-0.8472978603872034)"
      ]
     },
     "execution_count": 15,
     "metadata": {},
     "output_type": "execute_result"
    }
   ],
   "source": [
    "res_constant = constant1 - constant2\n",
    "res_constant"
   ]
  },
  {
   "cell_type": "markdown",
   "id": "3ae8ffcd-0e2b-4de1-be22-1d671e286959",
   "metadata": {},
   "source": [
    "## FINDING EQUATION OF DECISION BOUNDARY AND PLOTTING"
   ]
  },
  {
   "cell_type": "code",
   "execution_count": 16,
   "id": "45c3f4b2-a19d-44a2-aff0-82734d63e9b6",
   "metadata": {},
   "outputs": [
    {
     "name": "stdout",
     "output_type": "stream",
     "text": [
      "The equation of the decision boundary is -7.000000000000074x2 = 21.000000000000213x1 + -0.8472978603872034\n"
     ]
    }
   ],
   "source": [
    "#Equation of the decision boundary is y = -3x + 0.121\n",
    "\n",
    "print(f\"The equation of the decision boundary is {-1*res_x2_coefficient}x2 = {res_x1_coefficient}x1 + {res_constant}\")"
   ]
  },
  {
   "cell_type": "code",
   "execution_count": 17,
   "id": "10f46cda-9722-4dfd-819f-7c9b2eb5adb0",
   "metadata": {},
   "outputs": [
    {
     "data": {
      "image/png": "[encoded data removed]",
      "text/plain": [
       "<Figure size 640x480 with 1 Axes>"
      ]
     },
     "metadata": {},
     "output_type": "display_data"
    }
   ],
   "source": [
    "fig, ax = plt.subplots()\n",
    "\n",
    "\n",
    "df1.plot(kind=\"scatter\", x=\"c1\", y=\"c2\", color='blue', label='df1', ax=ax)\n",
    "\n",
    "\n",
    "df2.plot(kind=\"scatter\", x=\"c1\", y=\"c2\", color='red', label='df2', ax=ax)\n",
    "\n",
    "x = np.linspace(-6,6,100)  #choosing 100 randomly spaced point between -6 and 6 and finding their corresponding y points\n",
    "y = -3*x + 0.121\n",
    "\n",
    "plt.plot(x,y,color=\"purple\",label=\"decision_boundary\")\n",
    "plt.legend()\n",
    "\n",
    "\n",
    "\n",
    "plt.show()"
   ]
  },
  {
   "cell_type": "code",
   "execution_count": 18,
   "id": "c6a679cf-0c28-42e5-9047-3e4a1368903f",
   "metadata": {},
   "outputs": [
    {
     "data": {
      "text/plain": [
       "np.float64(-0.12104255148388621)"
      ]
     },
     "execution_count": 18,
     "metadata": {},
     "output_type": "execute_result"
    }
   ],
   "source": [
    "res_constant/7"
   ]
  },
  {
   "cell_type": "code",
   "execution_count": 19,
   "id": "e5426f30-0621-4f4f-afe5-715f4b4139e7",
   "metadata": {},
   "outputs": [
    {
     "data": {
      "text/plain": [
       "'THE GIVEN EXAMPLE FALLS UNDER CASE 2 OF THE BAYES DECISION THEORY AS THE COVARIANCE MATRICES ARE EQUAL.  '"
      ]
     },
     "execution_count": 19,
     "metadata": {},
     "output_type": "execute_result"
    }
   ],
   "source": [
    "'''THE GIVEN EXAMPLE FALLS UNDER CASE 2 OF THE BAYES DECISION THEORY AS THE COVARIANCE MATRICES ARE EQUAL.  '''"
   ]
  }
 ],
 "metadata": {
  "kernelspec": {
   "display_name": "Python 3 (ipykernel)",
   "language": "python",
   "name": "python3"
  },
  "language_info": {
   "codemirror_mode": {
    "name": "ipython",
    "version": 3
   },
   "file_extension": ".py",
   "mimetype": "text/x-python",
   "name": "python",
   "nbconvert_exporter": "python",
   "pygments_lexer": "ipython3",
   "version": "3.13.1"
  }
 },
 "nbformat": 4,
 "nbformat_minor": 5
}
