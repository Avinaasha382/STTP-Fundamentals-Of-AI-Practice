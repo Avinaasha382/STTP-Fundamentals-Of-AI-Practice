{
 "cells": [
  {
   "cell_type": "code",
   "execution_count": 1,
   "id": "b70b38f6-91e0-4e96-a6b2-16a8f9ebc9b4",
   "metadata": {},
   "outputs": [],
   "source": [
    "import pandas as pd\n",
    "import numpy as np\n",
    "import matplotlib.pyplot as plt\n",
    "import math"
   ]
  },
  {
   "cell_type": "code",
   "execution_count": 2,
   "id": "a14f86b4-8762-490c-95f2-b6ed9ba44222",
   "metadata": {},
   "outputs": [
    {
     "data": {
      "text/html": [
       "<div>\n",
       "<style scoped>\n",
       "    .dataframe tbody tr th:only-of-type {\n",
       "        vertical-align: middle;\n",
       "    }\n",
       "\n",
       "    .dataframe tbody tr th {\n",
       "        vertical-align: top;\n",
       "    }\n",
       "\n",
       "    .dataframe thead th {\n",
       "        text-align: right;\n",
       "    }\n",
       "</style>\n",
       "<table border=\"1\" class=\"dataframe\">\n",
       "  <thead>\n",
       "    <tr style=\"text-align: right;\">\n",
       "      <th></th>\n",
       "      <th>c1</th>\n",
       "      <th>c2</th>\n",
       "    </tr>\n",
       "  </thead>\n",
       "  <tbody>\n",
       "    <tr>\n",
       "      <th>0</th>\n",
       "      <td>2</td>\n",
       "      <td>6</td>\n",
       "    </tr>\n",
       "    <tr>\n",
       "      <th>1</th>\n",
       "      <td>3</td>\n",
       "      <td>4</td>\n",
       "    </tr>\n",
       "    <tr>\n",
       "      <th>2</th>\n",
       "      <td>3</td>\n",
       "      <td>8</td>\n",
       "    </tr>\n",
       "    <tr>\n",
       "      <th>3</th>\n",
       "      <td>4</td>\n",
       "      <td>6</td>\n",
       "    </tr>\n",
       "  </tbody>\n",
       "</table>\n",
       "</div>"
      ],
      "text/plain": [
       "   c1  c2\n",
       "0   2   6\n",
       "1   3   4\n",
       "2   3   8\n",
       "3   4   6"
      ]
     },
     "execution_count": 2,
     "metadata": {},
     "output_type": "execute_result"
    }
   ],
   "source": [
    "df1 = pd.DataFrame(   #converting input to pandas dataframe\n",
    "    {\n",
    "        \"c1\":[2,3,3,4],\n",
    "        \"c2\":[6,4,8,6]\n",
    "    }\n",
    ")\n",
    "df1"
   ]
  },
  {
   "cell_type": "code",
   "execution_count": 3,
   "id": "acf5b1a9-b944-4b7e-a547-6eaea3fd675d",
   "metadata": {},
   "outputs": [
    {
     "data": {
      "text/html": [
       "<div>\n",
       "<style scoped>\n",
       "    .dataframe tbody tr th:only-of-type {\n",
       "        vertical-align: middle;\n",
       "    }\n",
       "\n",
       "    .dataframe tbody tr th {\n",
       "        vertical-align: top;\n",
       "    }\n",
       "\n",
       "    .dataframe thead th {\n",
       "        text-align: right;\n",
       "    }\n",
       "</style>\n",
       "<table border=\"1\" class=\"dataframe\">\n",
       "  <thead>\n",
       "    <tr style=\"text-align: right;\">\n",
       "      <th></th>\n",
       "      <th>c1</th>\n",
       "      <th>c2</th>\n",
       "    </tr>\n",
       "  </thead>\n",
       "  <tbody>\n",
       "    <tr>\n",
       "      <th>0</th>\n",
       "      <td>3</td>\n",
       "      <td>0</td>\n",
       "    </tr>\n",
       "    <tr>\n",
       "      <th>1</th>\n",
       "      <td>1</td>\n",
       "      <td>-2</td>\n",
       "    </tr>\n",
       "    <tr>\n",
       "      <th>2</th>\n",
       "      <td>3</td>\n",
       "      <td>-4</td>\n",
       "    </tr>\n",
       "    <tr>\n",
       "      <th>3</th>\n",
       "      <td>5</td>\n",
       "      <td>-2</td>\n",
       "    </tr>\n",
       "  </tbody>\n",
       "</table>\n",
       "</div>"
      ],
      "text/plain": [
       "   c1  c2\n",
       "0   3   0\n",
       "1   1  -2\n",
       "2   3  -4\n",
       "3   5  -2"
      ]
     },
     "execution_count": 3,
     "metadata": {},
     "output_type": "execute_result"
    }
   ],
   "source": [
    "df2 = pd.DataFrame(    #converting input to pandas dataframe\n",
    "    {\n",
    "        \"c1\":[3,1,3,5],\n",
    "        \"c2\":[0,-2,-4,-2]\n",
    "    }\n",
    ")\n",
    "df2"
   ]
  },
  {
   "cell_type": "markdown",
   "id": "41df89e2-5cd6-4177-a03e-20fae1eca5fa",
   "metadata": {},
   "source": [
    "## COMPUTING THE COVARIANCE MATRICES"
   ]
  },
  {
   "cell_type": "code",
   "execution_count": 4,
   "id": "1612b224-7779-43ee-97f9-0d1a9c6e2fb0",
   "metadata": {},
   "outputs": [
    {
     "data": {
      "text/html": [
       "<div>\n",
       "<style scoped>\n",
       "    .dataframe tbody tr th:only-of-type {\n",
       "        vertical-align: middle;\n",
       "    }\n",
       "\n",
       "    .dataframe tbody tr th {\n",
       "        vertical-align: top;\n",
       "    }\n",
       "\n",
       "    .dataframe thead th {\n",
       "        text-align: right;\n",
       "    }\n",
       "</style>\n",
       "<table border=\"1\" class=\"dataframe\">\n",
       "  <thead>\n",
       "    <tr style=\"text-align: right;\">\n",
       "      <th></th>\n",
       "      <th>c1</th>\n",
       "      <th>c2</th>\n",
       "    </tr>\n",
       "  </thead>\n",
       "  <tbody>\n",
       "    <tr>\n",
       "      <th>c1</th>\n",
       "      <td>0.666667</td>\n",
       "      <td>0.000000</td>\n",
       "    </tr>\n",
       "    <tr>\n",
       "      <th>c2</th>\n",
       "      <td>0.000000</td>\n",
       "      <td>2.666667</td>\n",
       "    </tr>\n",
       "  </tbody>\n",
       "</table>\n",
       "</div>"
      ],
      "text/plain": [
       "          c1        c2\n",
       "c1  0.666667  0.000000\n",
       "c2  0.000000  2.666667"
      ]
     },
     "execution_count": 4,
     "metadata": {},
     "output_type": "execute_result"
    }
   ],
   "source": [
    "cov1 = df1.cov()  #finding the covariance matrix\n",
    "cov1"
   ]
  },
  {
   "cell_type": "code",
   "execution_count": 5,
   "id": "734579e0-b4bf-4aee-a265-cba67d62b60b",
   "metadata": {},
   "outputs": [
    {
     "data": {
      "text/html": [
       "<div>\n",
       "<style scoped>\n",
       "    .dataframe tbody tr th:only-of-type {\n",
       "        vertical-align: middle;\n",
       "    }\n",
       "\n",
       "    .dataframe tbody tr th {\n",
       "        vertical-align: top;\n",
       "    }\n",
       "\n",
       "    .dataframe thead th {\n",
       "        text-align: right;\n",
       "    }\n",
       "</style>\n",
       "<table border=\"1\" class=\"dataframe\">\n",
       "  <thead>\n",
       "    <tr style=\"text-align: right;\">\n",
       "      <th></th>\n",
       "      <th>c1</th>\n",
       "      <th>c2</th>\n",
       "    </tr>\n",
       "  </thead>\n",
       "  <tbody>\n",
       "    <tr>\n",
       "      <th>c1</th>\n",
       "      <td>2.666667</td>\n",
       "      <td>0.000000</td>\n",
       "    </tr>\n",
       "    <tr>\n",
       "      <th>c2</th>\n",
       "      <td>0.000000</td>\n",
       "      <td>2.666667</td>\n",
       "    </tr>\n",
       "  </tbody>\n",
       "</table>\n",
       "</div>"
      ],
      "text/plain": [
       "          c1        c2\n",
       "c1  2.666667  0.000000\n",
       "c2  0.000000  2.666667"
      ]
     },
     "execution_count": 5,
     "metadata": {},
     "output_type": "execute_result"
    }
   ],
   "source": [
    "cov2 = df2.cov()   #finding the covariance matrix\n",
    "cov2"
   ]
  },
  {
   "cell_type": "code",
   "execution_count": 6,
   "id": "c9c27c65-358a-46e5-839a-e5ff01cbcdc4",
   "metadata": {},
   "outputs": [
    {
     "data": {
      "text/plain": [
       "array([[1.5  , 0.   ],\n",
       "       [0.   , 0.375]])"
      ]
     },
     "execution_count": 6,
     "metadata": {},
     "output_type": "execute_result"
    }
   ],
   "source": [
    "inverse_cov1 = np.linalg.inv(cov1)  #finding inverse of the covariance matrix\n",
    "inverse_cov1"
   ]
  },
  {
   "cell_type": "code",
   "execution_count": 7,
   "id": "52f7beb9-8c83-446d-a355-7e5a4d78302d",
   "metadata": {},
   "outputs": [
    {
     "data": {
      "text/plain": [
       "array([[0.375, 0.   ],\n",
       "       [0.   , 0.375]])"
      ]
     },
     "execution_count": 7,
     "metadata": {},
     "output_type": "execute_result"
    }
   ],
   "source": [
    "inverse_cov2 = np.linalg.inv(cov2)  #finding inverse of the covariance matrix\n",
    "inverse_cov2"
   ]
  },
  {
   "cell_type": "markdown",
   "id": "f090002d-c97a-4fd6-80b2-3c1b3d14cc32",
   "metadata": {},
   "source": [
    "## CASE 3 OF BAYES CLASSIFIER"
   ]
  },
  {
   "cell_type": "code",
   "execution_count": 8,
   "id": "4ceff521-df57-4323-8dc5-2f450df5b79a",
   "metadata": {},
   "outputs": [
    {
     "data": {
      "text/plain": [
       "array([[-0.75  , -0.    ],\n",
       "       [-0.    , -0.1875]])"
      ]
     },
     "execution_count": 8,
     "metadata": {},
     "output_type": "execute_result"
    }
   ],
   "source": [
    "W1 = -0.5*inverse_cov1  #computing W1\n",
    "W1"
   ]
  },
  {
   "cell_type": "code",
   "execution_count": 9,
   "id": "300d681d-291c-47ec-b41c-ff35d6511598",
   "metadata": {},
   "outputs": [
    {
     "data": {
      "text/plain": [
       "array([[-0.1875, -0.    ],\n",
       "       [-0.    , -0.1875]])"
      ]
     },
     "execution_count": 9,
     "metadata": {},
     "output_type": "execute_result"
    }
   ],
   "source": [
    "W2 = -0.5*inverse_cov2   #computing W2\n",
    "W2"
   ]
  },
  {
   "cell_type": "code",
   "execution_count": 10,
   "id": "792621fe-63e2-4495-8a52-33ea44661321",
   "metadata": {},
   "outputs": [
    {
     "data": {
      "text/plain": [
       "np.float64(-0.75)"
      ]
     },
     "execution_count": 10,
     "metadata": {},
     "output_type": "execute_result"
    }
   ],
   "source": [
    "x1_squared_coefficient_1 = W1[0][0]\n",
    "x1_squared_coefficient_1"
   ]
  },
  {
   "cell_type": "code",
   "execution_count": 11,
   "id": "a45dbf95-11e7-451b-a089-70e4424af1a1",
   "metadata": {},
   "outputs": [
    {
     "data": {
      "text/plain": [
       "np.float64(-0.0)"
      ]
     },
     "execution_count": 11,
     "metadata": {},
     "output_type": "execute_result"
    }
   ],
   "source": [
    "x1_x2_coefficient_1 = W1[0][1] + W1[1][0]\n",
    "x1_x2_coefficient_1\n"
   ]
  },
  {
   "cell_type": "code",
   "execution_count": 12,
   "id": "e9b7467c-6763-4865-acc0-63cbb7121a19",
   "metadata": {},
   "outputs": [
    {
     "data": {
      "text/plain": [
       "np.float64(-0.1875)"
      ]
     },
     "execution_count": 12,
     "metadata": {},
     "output_type": "execute_result"
    }
   ],
   "source": [
    "x2_squared_coefficient_1 = W1[1][1]\n",
    "x2_squared_coefficient_1\n"
   ]
  },
  {
   "cell_type": "code",
   "execution_count": 13,
   "id": "5e15813c-4c24-4c54-bed3-1728848568f5",
   "metadata": {},
   "outputs": [
    {
     "data": {
      "text/plain": [
       "np.float64(-0.1875)"
      ]
     },
     "execution_count": 13,
     "metadata": {},
     "output_type": "execute_result"
    }
   ],
   "source": [
    "x1_squared_coefficient_2 = W2[0][0]\n",
    "x1_squared_coefficient_2"
   ]
  },
  {
   "cell_type": "code",
   "execution_count": 14,
   "id": "f7add246-167a-4f08-87e6-3159877b2812",
   "metadata": {},
   "outputs": [
    {
     "data": {
      "text/plain": [
       "np.float64(-0.0)"
      ]
     },
     "execution_count": 14,
     "metadata": {},
     "output_type": "execute_result"
    }
   ],
   "source": [
    "x1_x2_coefficient_2 = W2[0][1] + W2[1][0]\n",
    "x1_x2_coefficient_2"
   ]
  },
  {
   "cell_type": "code",
   "execution_count": 15,
   "id": "1bd845f0-bcf0-4610-846b-6c3cf61b4c08",
   "metadata": {},
   "outputs": [
    {
     "data": {
      "text/plain": [
       "np.float64(-0.1875)"
      ]
     },
     "execution_count": 15,
     "metadata": {},
     "output_type": "execute_result"
    }
   ],
   "source": [
    "x2_squared_coefficient_2 = W2[1][1]\n",
    "x2_squared_coefficient_2"
   ]
  },
  {
   "cell_type": "code",
   "execution_count": 16,
   "id": "02ce0285-56af-4f43-9556-a53e8e0a0387",
   "metadata": {},
   "outputs": [
    {
     "data": {
      "text/plain": [
       "c1    3.0\n",
       "c2    6.0\n",
       "dtype: float64"
      ]
     },
     "execution_count": 16,
     "metadata": {},
     "output_type": "execute_result"
    }
   ],
   "source": [
    "mean1 = df1.mean()   #computing the mean vector\n",
    "mean1"
   ]
  },
  {
   "cell_type": "code",
   "execution_count": 17,
   "id": "9c6d0efa-c7f9-4458-a718-30d50ea814ec",
   "metadata": {},
   "outputs": [
    {
     "data": {
      "text/plain": [
       "c1    3.0\n",
       "c2   -2.0\n",
       "dtype: float64"
      ]
     },
     "execution_count": 17,
     "metadata": {},
     "output_type": "execute_result"
    }
   ],
   "source": [
    "mean2 = df2.mean()  #computing the mean vector\n",
    "mean2"
   ]
  },
  {
   "cell_type": "code",
   "execution_count": 18,
   "id": "4e9f21e8-5aaf-43a9-aeae-c69012f92e6d",
   "metadata": {},
   "outputs": [
    {
     "data": {
      "text/plain": [
       "array([4.5 , 2.25])"
      ]
     },
     "execution_count": 18,
     "metadata": {},
     "output_type": "execute_result"
    }
   ],
   "source": [
    "w1 = np.matmul(inverse_cov1,mean1)  #computing w1\n",
    "w1"
   ]
  },
  {
   "cell_type": "code",
   "execution_count": 19,
   "id": "d6bf748c-793d-47a4-a593-e92310ddeac8",
   "metadata": {},
   "outputs": [
    {
     "data": {
      "text/plain": [
       "array([ 1.125, -0.75 ])"
      ]
     },
     "execution_count": 19,
     "metadata": {},
     "output_type": "execute_result"
    }
   ],
   "source": [
    "w2 = np.matmul(inverse_cov2,mean2)   #computing w2\n",
    "w2"
   ]
  },
  {
   "cell_type": "code",
   "execution_count": 20,
   "id": "9af9b8b0-61c4-4b44-8af8-65a4e1a4ea29",
   "metadata": {},
   "outputs": [
    {
     "data": {
      "text/plain": [
       "np.float64(4.5)"
      ]
     },
     "execution_count": 20,
     "metadata": {},
     "output_type": "execute_result"
    }
   ],
   "source": [
    "x1_coefficient_1 = w1[0]\n",
    "x1_coefficient_1"
   ]
  },
  {
   "cell_type": "code",
   "execution_count": 21,
   "id": "823fd527-9f9b-4f98-b311-75ab5de3adb7",
   "metadata": {},
   "outputs": [
    {
     "data": {
      "text/plain": [
       "np.float64(2.25)"
      ]
     },
     "execution_count": 21,
     "metadata": {},
     "output_type": "execute_result"
    }
   ],
   "source": [
    "x2_coefficient_1 = w1[1]\n",
    "x2_coefficient_1"
   ]
  },
  {
   "cell_type": "code",
   "execution_count": 22,
   "id": "77a3e7e9-8a61-4170-a5d1-39ea7ef0f2b1",
   "metadata": {},
   "outputs": [
    {
     "data": {
      "text/plain": [
       "np.float64(1.125)"
      ]
     },
     "execution_count": 22,
     "metadata": {},
     "output_type": "execute_result"
    }
   ],
   "source": [
    "x1_coefficient_2 = w2[0]\n",
    "x1_coefficient_2"
   ]
  },
  {
   "cell_type": "code",
   "execution_count": 23,
   "id": "0d0a9a5d-deee-4afa-8a7a-f59e20cf7b43",
   "metadata": {},
   "outputs": [
    {
     "data": {
      "text/plain": [
       "np.float64(-0.75)"
      ]
     },
     "execution_count": 23,
     "metadata": {},
     "output_type": "execute_result"
    }
   ],
   "source": [
    "x2_coefficient_2 = w2[1]\n",
    "x2_coefficient_2"
   ]
  },
  {
   "cell_type": "code",
   "execution_count": 24,
   "id": "7c020a5d-28e2-4bc9-8e6e-e699c24b37d2",
   "metadata": {},
   "outputs": [
    {
     "data": {
      "text/plain": [
       "np.float64(-13.787682072451782)"
      ]
     },
     "execution_count": 24,
     "metadata": {},
     "output_type": "execute_result"
    }
   ],
   "source": [
    "constant_1 = -0.5*(np.matmul(np.matmul(mean1.transpose(),inverse_cov1),mean1)) -0.5*(math.log(np.linalg.det(cov1)))\n",
    "constant_1"
   ]
  },
  {
   "cell_type": "code",
   "execution_count": 25,
   "id": "c0072065-03eb-4312-9a83-3905c4b06f99",
   "metadata": {},
   "outputs": [
    {
     "data": {
      "text/plain": [
       "np.float64(-3.418329253011726)"
      ]
     },
     "execution_count": 25,
     "metadata": {},
     "output_type": "execute_result"
    }
   ],
   "source": [
    "constant_2 = -0.5*(np.matmul(np.matmul(mean2.transpose(),inverse_cov2),mean2)) -0.5*(math.log(np.linalg.det(cov2)))\n",
    "constant_2"
   ]
  },
  {
   "cell_type": "code",
   "execution_count": 26,
   "id": "6d3cf625-28ff-4a5c-a160-9001bbc5ab57",
   "metadata": {},
   "outputs": [
    {
     "data": {
      "text/plain": [
       "np.float64(-0.5625)"
      ]
     },
     "execution_count": 26,
     "metadata": {},
     "output_type": "execute_result"
    }
   ],
   "source": [
    "res_x1_squared_coefficient = x1_squared_coefficient_1 - x1_squared_coefficient_2\n",
    "res_x1_squared_coefficient"
   ]
  },
  {
   "cell_type": "code",
   "execution_count": 27,
   "id": "6c5b6812-c8a9-4d92-ba8c-e3c274268b57",
   "metadata": {},
   "outputs": [
    {
     "data": {
      "text/plain": [
       "np.float64(0.0)"
      ]
     },
     "execution_count": 27,
     "metadata": {},
     "output_type": "execute_result"
    }
   ],
   "source": [
    "res_x2_squared_coefficient = x2_squared_coefficient_1 - x2_squared_coefficient_2\n",
    "res_x2_squared_coefficient"
   ]
  },
  {
   "cell_type": "code",
   "execution_count": 28,
   "id": "4fdf104a-891e-4964-9979-5d69924d9240",
   "metadata": {},
   "outputs": [
    {
     "data": {
      "text/plain": [
       "np.float64(3.375)"
      ]
     },
     "execution_count": 28,
     "metadata": {},
     "output_type": "execute_result"
    }
   ],
   "source": [
    "res_x1_coefficient = x1_coefficient_1 - x1_coefficient_2\n",
    "res_x1_coefficient"
   ]
  },
  {
   "cell_type": "code",
   "execution_count": 29,
   "id": "dbf4a05e-e160-45b7-83a3-378dd0c9bb58",
   "metadata": {},
   "outputs": [
    {
     "data": {
      "text/plain": [
       "np.float64(3.0)"
      ]
     },
     "execution_count": 29,
     "metadata": {},
     "output_type": "execute_result"
    }
   ],
   "source": [
    "res_x2_coefficient = x2_coefficient_1 - x2_coefficient_2\n",
    "res_x2_coefficient"
   ]
  },
  {
   "cell_type": "code",
   "execution_count": 30,
   "id": "9dbc48c2-13d0-40bc-8c34-bd5d191701c5",
   "metadata": {},
   "outputs": [
    {
     "data": {
      "text/plain": [
       "np.float64(-10.369352819440056)"
      ]
     },
     "execution_count": 30,
     "metadata": {},
     "output_type": "execute_result"
    }
   ],
   "source": [
    "res_constant = constant_1 - constant_2\n",
    "res_constant"
   ]
  },
  {
   "cell_type": "markdown",
   "id": "23b1c833-9abc-43ac-9d9e-3bbbaac3b2a1",
   "metadata": {},
   "source": [
    "## FINDINF EQUATION OF DECISION BOUNDARY AND PLOTTING"
   ]
  },
  {
   "cell_type": "code",
   "execution_count": 31,
   "id": "bcc83f90-13d2-42c3-9139-bc62849933b9",
   "metadata": {},
   "outputs": [
    {
     "name": "stdout",
     "output_type": "stream",
     "text": [
      "The equation of the decision boundary is: 0.5625x1^2 = 3.375x1 + 3.0x2 + -10.369352819440056\n"
     ]
    }
   ],
   "source": [
    "print(f\"The equation of the decision boundary is: {-1*res_x1_squared_coefficient}x1^2 = {res_x1_coefficient}x1 + {res_x2_coefficient}x2 + {res_constant}\")\n",
    "\n"
   ]
  },
  {
   "cell_type": "code",
   "execution_count": 32,
   "id": "44ba36a7-d2af-4ca4-bd35-c7e10796cfe3",
   "metadata": {},
   "outputs": [],
   "source": [
    "x = np.linspace(1,5,100)\n",
    "y = (0.5625*(x**2) - 3.375*(x) + 10.369352819440056)/3"
   ]
  },
  {
   "cell_type": "code",
   "execution_count": 33,
   "id": "ed473796-d2af-4676-9c66-993f6ab8fd2b",
   "metadata": {},
   "outputs": [
    {
     "data": {
      "text/plain": [
       "[<matplotlib.lines.Line2D at 0x24ccc1a4e10>]"
      ]
     },
     "execution_count": 33,
     "metadata": {},
     "output_type": "execute_result"
    },
    {
     "data": {
      "image/png": "[encoded data removed]",
      "text/plain": [
       "<Figure size 640x480 with 1 Axes>"
      ]
     },
     "metadata": {},
     "output_type": "display_data"
    }
   ],
   "source": [
    "#The decision boundary is quadratic. We plot the curve according to the equation obtained.\n",
    "\n",
    "fig, ax = plt.subplots()\n",
    "\n",
    "\n",
    "df1.plot(kind=\"scatter\", x=\"c1\", y=\"c2\", color='blue', label='df1', ax=ax)\n",
    "\n",
    "\n",
    "df2.plot(kind=\"scatter\", x=\"c1\", y=\"c2\", color='red', label='df2', ax=ax)\n",
    "\n",
    "plt.plot(x,y,color=\"purple\",label=\"decision_boundary\")"
   ]
  },
  {
   "cell_type": "code",
   "execution_count": 34,
   "id": "0b435ce0-dad7-4923-bf36-8bc3362d5603",
   "metadata": {},
   "outputs": [
    {
     "data": {
      "text/plain": [
       "'THE GIVEN EXAMPLE FALLS UNDER CASE 3 OF THE BAYES DECISION THEORY AS THE COVARIANCE MATRICES ARE NOT EQUAL.  '"
      ]
     },
     "execution_count": 34,
     "metadata": {},
     "output_type": "execute_result"
    }
   ],
   "source": [
    "'''THE GIVEN EXAMPLE FALLS UNDER CASE 3 OF THE BAYES DECISION THEORY AS THE COVARIANCE MATRICES ARE NOT EQUAL.  '''"
   ]
  }
 ],
 "metadata": {
  "kernelspec": {
   "display_name": "Python 3 (ipykernel)",
   "language": "python",
   "name": "python3"
  },
  "language_info": {
   "codemirror_mode": {
    "name": "ipython",
    "version": 3
   },
   "file_extension": ".py",
   "mimetype": "text/x-python",
   "name": "python",
   "nbconvert_exporter": "python",
   "pygments_lexer": "ipython3",
   "version": "3.13.1"
  }
 },
 "nbformat": 4,
 "nbformat_minor": 5
}
