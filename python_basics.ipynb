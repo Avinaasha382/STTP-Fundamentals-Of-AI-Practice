{
 "cells": [
  {
   "cell_type": "markdown",
   "id": "21aed148-ff29-4386-8e4d-2daf3077c362",
   "metadata": {},
   "source": [
    "# Python Introduction\n",
    "\n",
    "This lecture is designed to introduce you to the basics of Python programming. By the end of this tutorial, you'll have a strong foundation in Python and be ready to explore more advanced concepts.\n",
    "\n",
    "### What is Python?\n",
    "\n",
    "Python is a high-level, interpreted programming language known for its simplicity and readability. It is widely used in web development, data analysis, artificial intelligence, scientific computing, and more.\n",
    "\n",
    "### What You'll Learn\n",
    "1. Python syntax and variables\n",
    "2. Basic data types and operations\n",
    "3. Conditional statements and loops\n",
    "4. Functions\n",
    "5. Lists, tuples, and dictionaries\n",
    "6. Introduction to modules\n",
    "\n",
    "Let's get started with a simple \"Hello, World!\" program.\n",
    "\n"
   ]
  },
  {
   "cell_type": "code",
   "execution_count": 16,
   "id": "86728dd9-8003-498b-a7e6-9c8a53571299",
   "metadata": {},
   "outputs": [
    {
     "name": "stdout",
     "output_type": "stream",
     "text": [
      "Hello, World!\n"
     ]
    }
   ],
   "source": [
    "print(\"Hello, World!\")"
   ]
  },
  {
   "cell_type": "markdown",
   "id": "93aea31c-5ed1-48f7-a53e-cafde8a23bce",
   "metadata": {},
   "source": [
    "## Python Syntax and Variables\n",
    "\n",
    "Python syntax is simple and easy to read. We shall see how we can define variables\n",
    "\n",
    "### Variables\n",
    "- Variables are used to store data.\n",
    "- You don't need to declare the type; Python infers it automatically.\n",
    "- Use the `=` operator to assign a value to a variable.\n",
    "\n",
    "Example:\n"
   ]
  },
  {
   "cell_type": "code",
   "execution_count": 18,
   "id": "493bfaa0-33a6-4716-9a20-3c58cfef6b15",
   "metadata": {},
   "outputs": [
    {
     "name": "stdout",
     "output_type": "stream",
     "text": [
      "Name: Alice\n",
      "Age: 25\n",
      "Is student: True\n"
     ]
    }
   ],
   "source": [
    "# Defining variables\n",
    "name = \"Alice\"\n",
    "age = 25\n",
    "is_student = True\n",
    "\n",
    "# Printing variables\n",
    "print(\"Name:\", name)\n",
    "print(\"Age:\", age)\n",
    "print(\"Is student:\", is_student)\n"
   ]
  },
  {
   "cell_type": "markdown",
   "id": "3150e00a-b8f2-4e4f-b660-ba79d7b4523d",
   "metadata": {},
   "source": [
    "## Basic Data Types in Python\n",
    "\n",
    "Python provides several built-in data types for storing different kinds of values. Here are a few common ones:\n",
    "\n",
    "1. **int**: Integer numbers (e.g., `5`, `-10`, `100`)\n",
    "2. **float**: Decimal numbers (e.g., `3.14`, `-0.5`)\n",
    "3. **str**: Text or string of characters (e.g., `\"Hello\"`, `'Python'`)\n",
    "4. **bool**: Boolean values (`True` or `False`)\n",
    "\n"
   ]
  },
  {
   "cell_type": "code",
   "execution_count": 19,
   "id": "54e11df2-12a6-4810-bb4b-29bd32377f58",
   "metadata": {},
   "outputs": [
    {
     "name": "stdout",
     "output_type": "stream",
     "text": [
      "Integer: 10\n",
      "Float: 3.14\n",
      "String: Hello!\n",
      "Boolean: True\n"
     ]
    }
   ],
   "source": [
    "# Examples of basic data types\n",
    "x = 10          # int\n",
    "y = 3.14        # float\n",
    "text = \"Hello!\" # str\n",
    "is_active = True # bool\n",
    "\n",
    "print(\"Integer:\", x)\n",
    "print(\"Float:\", y)\n",
    "print(\"String:\", text)\n",
    "print(\"Boolean:\", is_active)\n"
   ]
  },
  {
   "cell_type": "markdown",
   "id": "216391c2-5705-4e62-be32-2b6ee76d7f25",
   "metadata": {},
   "source": [
    "## Basic Operators in Python\n",
    "\n",
    "Python supports a variety of operators for performing operations on variables and values. Here are some commonly used ones:\n",
    "\n",
    "### Arithmetic Operators\n",
    "- `+` : Addition\n",
    "- `-` : Subtraction\n",
    "- `*` : Multiplication\n",
    "- `/` : Division\n",
    "- `**` : Exponentiation\n",
    "- `%` : Modulus (remainder)\n",
    "- `//` : Floor Division\n",
    "\n",
    "\n"
   ]
  },
  {
   "cell_type": "code",
   "execution_count": 20,
   "id": "4c0a811a-0b0a-4041-a848-332cf7716ff8",
   "metadata": {},
   "outputs": [
    {
     "name": "stdout",
     "output_type": "stream",
     "text": [
      "Addition: 19\n",
      "Subtraction: 11\n",
      "Multiplication: 60\n",
      "Division: 3.75\n",
      "Exponentiation: 50625\n",
      "Modulus: 3\n",
      "Floor Division: 3\n"
     ]
    }
   ],
   "source": [
    "# Arithmetic operations\n",
    "a = 15\n",
    "b = 4\n",
    "\n",
    "print(\"Addition:\", a + b)       # 15 + 4\n",
    "print(\"Subtraction:\", a - b)    # 15 - 4\n",
    "print(\"Multiplication:\", a * b) # 15 * 4\n",
    "print(\"Division:\", a / b)       # 15 / 4\n",
    "print(\"Exponentiation:\", a ** b) # 15^4\n",
    "print(\"Modulus:\", a % b)        # Remainder when 15 is divided by 4\n",
    "print(\"Floor Division:\", a // b) # Quotient when 15 is divided by 4\n"
   ]
  },
  {
   "cell_type": "markdown",
   "id": "cce0d74f-ff2f-406b-8517-b37d2fcd6dd7",
   "metadata": {},
   "source": [
    "## Conditional Statements\n",
    "\n",
    "Conditional statements allow you to make decisions in your code based on certain conditions.\n",
    "\n",
    "### Syntax:\n",
    "```python\n",
    "if condition:\n",
    "    # code to execute if condition is True\n",
    "elif another_condition:\n",
    "    # code to execute if the first condition is False and this condition is True\n",
    "else:\n",
    "    # code to execute if all conditions are False\n"
   ]
  },
  {
   "cell_type": "code",
   "execution_count": 21,
   "id": "f8f201ee-3e86-4176-9c28-315a8bc16161",
   "metadata": {},
   "outputs": [
    {
     "name": "stdout",
     "output_type": "stream",
     "text": [
      "You are an adult.\n"
     ]
    }
   ],
   "source": [
    "age = 20\n",
    "\n",
    "if age < 18:\n",
    "    print(\"You are a minor.\")\n",
    "elif age >= 18 and age < 60:\n",
    "    print(\"You are an adult.\")\n",
    "else:\n",
    "    print(\"You are a senior citizen.\")\n"
   ]
  },
  {
   "cell_type": "markdown",
   "id": "0ef02d5d-b802-480d-92a2-93cec0466e64",
   "metadata": {},
   "source": [
    "## Loops in Python\n",
    "\n",
    "Loops are used to repeat a block of code multiple times. Python has two main types of loops:\n",
    "\n",
    "1. **`for` loop**: Iterates over a sequence (like a list, range, or string).\n",
    "2. **`while` loop**: Repeats as long as a condition is `True`.\n",
    "\n",
    "\n"
   ]
  },
  {
   "cell_type": "code",
   "execution_count": 22,
   "id": "78148843-7742-4e7d-958c-0e8301cf79bc",
   "metadata": {},
   "outputs": [
    {
     "name": "stdout",
     "output_type": "stream",
     "text": [
      "For loop example:\n",
      "Iteration: 0\n",
      "Iteration: 1\n",
      "Iteration: 2\n",
      "Iteration: 3\n",
      "Iteration: 4\n",
      "\n",
      "While loop example:\n",
      "Count: 0\n",
      "Count: 1\n",
      "Count: 2\n",
      "Count: 3\n",
      "Count: 4\n"
     ]
    }
   ],
   "source": [
    "# Example of a for loop\n",
    "print(\"For loop example:\")\n",
    "for i in range(5):  # range(5) generates numbers from 0 to 4\n",
    "    print(\"Iteration:\", i)\n",
    "\n",
    "# Example of a while loop\n",
    "print(\"\\nWhile loop example:\")\n",
    "count = 0\n",
    "while count < 5:\n",
    "    print(\"Count:\", count)\n",
    "    count += 1  # Increment the count\n"
   ]
  },
  {
   "cell_type": "markdown",
   "id": "dd1e143c-4203-4bdd-8ebe-723117ecd37e",
   "metadata": {},
   "source": [
    "## Functions in Python\n",
    "\n",
    "Functions are reusable blocks of code that perform a specific task. They help make your code modular and organized.\n",
    "\n",
    "### Syntax:\n",
    "```python\n",
    "def function_name(parameters):\n",
    "    # code block\n",
    "    return value\n"
   ]
  },
  {
   "cell_type": "code",
   "execution_count": 23,
   "id": "e5b679ec-e3c5-4c2f-8b8d-20283ea878c6",
   "metadata": {},
   "outputs": [
    {
     "name": "stdout",
     "output_type": "stream",
     "text": [
      "The sum is: 30\n"
     ]
    }
   ],
   "source": [
    "# Function to add two numbers\n",
    "def add_numbers(a, b):\n",
    "    return a + b\n",
    "\n",
    "# Using the function\n",
    "result = add_numbers(10, 20)\n",
    "print(\"The sum is:\", result)\n"
   ]
  },
  {
   "cell_type": "markdown",
   "id": "b1605408-8620-4ee9-854c-1a7dbc48f977",
   "metadata": {},
   "source": [
    "## Lists in Python\n",
    "\n",
    "A **list** is a collection of items that are ordered and mutable. Lists can store elements of different data types.\n",
    "\n",
    "### Common List Operations:\n",
    "1. Access elements using indices (e.g., `my_list[0]`).\n",
    "2. Add elements using `.append()` or `.extend()`.\n",
    "3. Remove elements using `.remove()` or `.pop()`.\n",
    "\n",
    "\n"
   ]
  },
  {
   "cell_type": "code",
   "execution_count": 24,
   "id": "a01f6f3f-9bf0-4b43-81c2-658de392118a",
   "metadata": {},
   "outputs": [
    {
     "name": "stdout",
     "output_type": "stream",
     "text": [
      "First fruit: apple\n",
      "After appending: ['apple', 'banana', 'cherry', 'orange']\n",
      "After removing 'banana': ['apple', 'cherry', 'orange']\n",
      "Popped fruit: orange\n",
      "Final list: ['apple', 'cherry']\n"
     ]
    }
   ],
   "source": [
    "# Creating a list\n",
    "fruits = [\"apple\", \"banana\", \"cherry\"]\n",
    "\n",
    "# Accessing elements\n",
    "print(\"First fruit:\", fruits[0])\n",
    "\n",
    "# Adding an element\n",
    "fruits.append(\"orange\")\n",
    "print(\"After appending:\", fruits)\n",
    "\n",
    "# Removing an element\n",
    "fruits.remove(\"banana\")\n",
    "print(\"After removing 'banana':\", fruits)\n",
    "\n",
    "# Popping an element\n",
    "last_fruit = fruits.pop()\n",
    "print(\"Popped fruit:\", last_fruit)\n",
    "print(\"Final list:\", fruits)\n"
   ]
  },
  {
   "cell_type": "markdown",
   "id": "a01ed2b2-bc06-41b1-b98e-1a310aba19aa",
   "metadata": {},
   "source": [
    "## Tuples in Python\n",
    "\n",
    "A **tuple** is similar to a list, but it is **immutable**, meaning you cannot change its elements once defined.\n",
    "\n",
    "### Common Operations:\n",
    "1. Access elements using indices (e.g., `my_tuple[0]`).\n",
    "2. You cannot modify, add, or remove elements from a tuple.\n",
    "\n",
    "\n"
   ]
  },
  {
   "cell_type": "code",
   "execution_count": 30,
   "id": "36a3b744-64dd-4117-bf82-e0ba7bd3454b",
   "metadata": {},
   "outputs": [
    {
     "name": "stdout",
     "output_type": "stream",
     "text": [
      "First color: red\n"
     ]
    }
   ],
   "source": [
    "# Creating a tuple\n",
    "colors = (\"red\", \"green\", \"blue\")\n",
    "\n",
    "# Accessing elements\n",
    "print(\"First color:\", colors[0])\n",
    "\n",
    "# Tuples are immutable, so the following would raise an error:\n",
    "#colors[1] = \"yellow\"  # Uncommenting this line will raise a TypeError\n"
   ]
  },
  {
   "cell_type": "markdown",
   "id": "ecd8eb60-9b80-453a-b0fd-167e4dbc065f",
   "metadata": {},
   "source": [
    "## Dictionaries in Python\n",
    "\n",
    "A **dictionary** is an unordered collection of key-value pairs. Dictionaries are useful for storing data that is associated with a unique key.\n",
    "\n",
    "### Common Operations:\n",
    "1. Access elements using keys (e.g., `my_dict['key']`).\n",
    "2. Add or update elements by assigning a value to a key.\n",
    "3. Remove elements using `.pop()` or `del`.\n",
    "\n",
    "\n"
   ]
  },
  {
   "cell_type": "code",
   "execution_count": 31,
   "id": "96413026-7f9f-4caf-af71-627cec514bf8",
   "metadata": {},
   "outputs": [
    {
     "name": "stdout",
     "output_type": "stream",
     "text": [
      "Name: John\n",
      "Updated dictionary: {'name': 'John', 'age': 23, 'course': 'Computer Science', 'city': 'New York'}\n",
      "After removing 'course': {'name': 'John', 'age': 23, 'city': 'New York'}\n"
     ]
    }
   ],
   "source": [
    "# Creating a dictionary\n",
    "student = {\n",
    "    \"name\": \"John\",\n",
    "    \"age\": 22,\n",
    "    \"course\": \"Computer Science\"\n",
    "}\n",
    "\n",
    "# Accessing elements by key\n",
    "print(\"Name:\", student[\"name\"])\n",
    "\n",
    "# Adding or updating elements\n",
    "student[\"age\"] = 23\n",
    "student[\"city\"] = \"New York\"\n",
    "print(\"Updated dictionary:\", student)\n",
    "\n",
    "# Removing an element\n",
    "del student[\"course\"]\n",
    "print(\"After removing 'course':\", student)\n"
   ]
  },
  {
   "cell_type": "code",
   "execution_count": null,
   "id": "db6248e9-18e1-45bc-a500-981cd49b7dcc",
   "metadata": {},
   "outputs": [],
   "source": []
  }
 ],
 "metadata": {
  "kernelspec": {
   "display_name": "Python 3 (ipykernel)",
   "language": "python",
   "name": "python3"
  },
  "language_info": {
   "codemirror_mode": {
    "name": "ipython",
    "version": 3
   },
   "file_extension": ".py",
   "mimetype": "text/x-python",
   "name": "python",
   "nbconvert_exporter": "python",
   "pygments_lexer": "ipython3",
   "version": "3.13.1"
  }
 },
 "nbformat": 4,
 "nbformat_minor": 5
}
