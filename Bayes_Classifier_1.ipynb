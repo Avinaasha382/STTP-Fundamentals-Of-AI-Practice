{
 "cells": [
  {
   "cell_type": "code",
   "execution_count": 2,
   "id": "d2918f37-3d3d-4b11-b8ba-87d64519bb0e",
   "metadata": {},
   "outputs": [],
   "source": [
    "import pandas as pd\n",
    "import numpy as np\n",
    "import matplotlib.pyplot as plt"
   ]
  },
  {
   "cell_type": "code",
   "execution_count": 3,
   "id": "0d44697d-da85-4576-8a1b-3dec885a7c99",
   "metadata": {},
   "outputs": [
    {
     "data": {
      "text/html": [
       "<div>\n",
       "<style scoped>\n",
       "    .dataframe tbody tr th:only-of-type {\n",
       "        vertical-align: middle;\n",
       "    }\n",
       "\n",
       "    .dataframe tbody tr th {\n",
       "        vertical-align: top;\n",
       "    }\n",
       "\n",
       "    .dataframe thead th {\n",
       "        text-align: right;\n",
       "    }\n",
       "</style>\n",
       "<table border=\"1\" class=\"dataframe\">\n",
       "  <thead>\n",
       "    <tr style=\"text-align: right;\">\n",
       "      <th></th>\n",
       "      <th>c1</th>\n",
       "      <th>c2</th>\n",
       "    </tr>\n",
       "  </thead>\n",
       "  <tbody>\n",
       "    <tr>\n",
       "      <th>0</th>\n",
       "      <td>1</td>\n",
       "      <td>6</td>\n",
       "    </tr>\n",
       "    <tr>\n",
       "      <th>1</th>\n",
       "      <td>3</td>\n",
       "      <td>4</td>\n",
       "    </tr>\n",
       "    <tr>\n",
       "      <th>2</th>\n",
       "      <td>3</td>\n",
       "      <td>8</td>\n",
       "    </tr>\n",
       "    <tr>\n",
       "      <th>3</th>\n",
       "      <td>5</td>\n",
       "      <td>6</td>\n",
       "    </tr>\n",
       "  </tbody>\n",
       "</table>\n",
       "</div>"
      ],
      "text/plain": [
       "   c1  c2\n",
       "0   1   6\n",
       "1   3   4\n",
       "2   3   8\n",
       "3   5   6"
      ]
     },
     "execution_count": 3,
     "metadata": {},
     "output_type": "execute_result"
    }
   ],
   "source": [
    "df1 = pd.DataFrame(   #creating a pandas dataframe from the given input\n",
    "    {\n",
    "        \"c1\":[1,3,3,5],\n",
    "        \"c2\":[6,4,8,6]\n",
    "    }\n",
    ")\n",
    "df1"
   ]
  },
  {
   "cell_type": "code",
   "execution_count": 4,
   "id": "8bbcce6a-512b-40ad-ac93-9327b137c788",
   "metadata": {},
   "outputs": [
    {
     "data": {
      "text/html": [
       "<div>\n",
       "<style scoped>\n",
       "    .dataframe tbody tr th:only-of-type {\n",
       "        vertical-align: middle;\n",
       "    }\n",
       "\n",
       "    .dataframe tbody tr th {\n",
       "        vertical-align: top;\n",
       "    }\n",
       "\n",
       "    .dataframe thead th {\n",
       "        text-align: right;\n",
       "    }\n",
       "</style>\n",
       "<table border=\"1\" class=\"dataframe\">\n",
       "  <thead>\n",
       "    <tr style=\"text-align: right;\">\n",
       "      <th></th>\n",
       "      <th>c1</th>\n",
       "      <th>c2</th>\n",
       "    </tr>\n",
       "  </thead>\n",
       "  <tbody>\n",
       "    <tr>\n",
       "      <th>0</th>\n",
       "      <td>3</td>\n",
       "      <td>0</td>\n",
       "    </tr>\n",
       "    <tr>\n",
       "      <th>1</th>\n",
       "      <td>1</td>\n",
       "      <td>-2</td>\n",
       "    </tr>\n",
       "    <tr>\n",
       "      <th>2</th>\n",
       "      <td>3</td>\n",
       "      <td>-4</td>\n",
       "    </tr>\n",
       "    <tr>\n",
       "      <th>3</th>\n",
       "      <td>5</td>\n",
       "      <td>-2</td>\n",
       "    </tr>\n",
       "  </tbody>\n",
       "</table>\n",
       "</div>"
      ],
      "text/plain": [
       "   c1  c2\n",
       "0   3   0\n",
       "1   1  -2\n",
       "2   3  -4\n",
       "3   5  -2"
      ]
     },
     "execution_count": 4,
     "metadata": {},
     "output_type": "execute_result"
    }
   ],
   "source": [
    "df2 = pd.DataFrame(   #creating a pandas dataframe from the given input\n",
    "    {\n",
    "        \"c1\":[3,1,3,5],\n",
    "        \"c2\":[0,-2,-4,-2]\n",
    "    }\n",
    ")\n",
    "df2"
   ]
  },
  {
   "cell_type": "markdown",
   "id": "f06e7903-dc9c-4edc-bbc5-2809173f4733",
   "metadata": {},
   "source": [
    "## OBTAINING COVARIANCE MATRICES"
   ]
  },
  {
   "cell_type": "code",
   "execution_count": 5,
   "id": "456df7de-8901-40c9-8132-8ba20571e79d",
   "metadata": {},
   "outputs": [
    {
     "data": {
      "text/html": [
       "<div>\n",
       "<style scoped>\n",
       "    .dataframe tbody tr th:only-of-type {\n",
       "        vertical-align: middle;\n",
       "    }\n",
       "\n",
       "    .dataframe tbody tr th {\n",
       "        vertical-align: top;\n",
       "    }\n",
       "\n",
       "    .dataframe thead th {\n",
       "        text-align: right;\n",
       "    }\n",
       "</style>\n",
       "<table border=\"1\" class=\"dataframe\">\n",
       "  <thead>\n",
       "    <tr style=\"text-align: right;\">\n",
       "      <th></th>\n",
       "      <th>c1</th>\n",
       "      <th>c2</th>\n",
       "    </tr>\n",
       "  </thead>\n",
       "  <tbody>\n",
       "    <tr>\n",
       "      <th>c1</th>\n",
       "      <td>2.666667</td>\n",
       "      <td>0.000000</td>\n",
       "    </tr>\n",
       "    <tr>\n",
       "      <th>c2</th>\n",
       "      <td>0.000000</td>\n",
       "      <td>2.666667</td>\n",
       "    </tr>\n",
       "  </tbody>\n",
       "</table>\n",
       "</div>"
      ],
      "text/plain": [
       "          c1        c2\n",
       "c1  2.666667  0.000000\n",
       "c2  0.000000  2.666667"
      ]
     },
     "execution_count": 5,
     "metadata": {},
     "output_type": "execute_result"
    }
   ],
   "source": [
    "cov1 = df1.cov()  #finding covariance matrices\n",
    "cov1"
   ]
  },
  {
   "cell_type": "code",
   "execution_count": 6,
   "id": "3981d8db-72d0-43c2-9741-6e4e299a8b6a",
   "metadata": {},
   "outputs": [
    {
     "data": {
      "text/html": [
       "<div>\n",
       "<style scoped>\n",
       "    .dataframe tbody tr th:only-of-type {\n",
       "        vertical-align: middle;\n",
       "    }\n",
       "\n",
       "    .dataframe tbody tr th {\n",
       "        vertical-align: top;\n",
       "    }\n",
       "\n",
       "    .dataframe thead th {\n",
       "        text-align: right;\n",
       "    }\n",
       "</style>\n",
       "<table border=\"1\" class=\"dataframe\">\n",
       "  <thead>\n",
       "    <tr style=\"text-align: right;\">\n",
       "      <th></th>\n",
       "      <th>c1</th>\n",
       "      <th>c2</th>\n",
       "    </tr>\n",
       "  </thead>\n",
       "  <tbody>\n",
       "    <tr>\n",
       "      <th>c1</th>\n",
       "      <td>2.666667</td>\n",
       "      <td>0.000000</td>\n",
       "    </tr>\n",
       "    <tr>\n",
       "      <th>c2</th>\n",
       "      <td>0.000000</td>\n",
       "      <td>2.666667</td>\n",
       "    </tr>\n",
       "  </tbody>\n",
       "</table>\n",
       "</div>"
      ],
      "text/plain": [
       "          c1        c2\n",
       "c1  2.666667  0.000000\n",
       "c2  0.000000  2.666667"
      ]
     },
     "execution_count": 6,
     "metadata": {},
     "output_type": "execute_result"
    }
   ],
   "source": [
    "cov2 = df2.cov()\n",
    "cov2"
   ]
  },
  {
   "cell_type": "markdown",
   "id": "e26e47ad-cb51-497c-93ba-b6f54c6d6fcc",
   "metadata": {},
   "source": [
    "## CASE 1 OF BAYES CLASSIFIER"
   ]
  },
  {
   "cell_type": "code",
   "execution_count": 7,
   "id": "27a53d70-1d9c-4e6d-a1b6-6757d6d85450",
   "metadata": {},
   "outputs": [
    {
     "data": {
      "text/plain": [
       "np.float64(2.6666666666666665)"
      ]
     },
     "execution_count": 7,
     "metadata": {},
     "output_type": "execute_result"
    }
   ],
   "source": [
    "sigma_squared = cov1[\"c1\"][\"c1\"]   #value of sigma square\n",
    "sigma_squared"
   ]
  },
  {
   "cell_type": "code",
   "execution_count": 8,
   "id": "055f6b4f-462e-4f0e-9c51-84e60570a573",
   "metadata": {},
   "outputs": [
    {
     "data": {
      "text/plain": [
       "c1    3.0\n",
       "c2    6.0\n",
       "dtype: float64"
      ]
     },
     "execution_count": 8,
     "metadata": {},
     "output_type": "execute_result"
    }
   ],
   "source": [
    "mean1 = df1.mean()  #computing the mean vector\n",
    "mean1"
   ]
  },
  {
   "cell_type": "code",
   "execution_count": 9,
   "id": "71e043eb-81b8-415e-99b9-d4849198dd9e",
   "metadata": {},
   "outputs": [
    {
     "data": {
      "text/plain": [
       "c1    3.0\n",
       "c2   -2.0\n",
       "dtype: float64"
      ]
     },
     "execution_count": 9,
     "metadata": {},
     "output_type": "execute_result"
    }
   ],
   "source": [
    "mean2 = df2.mean() #computing the mean vector\n",
    "mean2"
   ]
  },
  {
   "cell_type": "code",
   "execution_count": 10,
   "id": "393ff8b2-b4fa-470d-ac37-18399fbbcab2",
   "metadata": {},
   "outputs": [
    {
     "data": {
      "text/plain": [
       "c1    1.125\n",
       "c2    2.250\n",
       "dtype: float64"
      ]
     },
     "execution_count": 10,
     "metadata": {},
     "output_type": "execute_result"
    }
   ],
   "source": [
    "x_coefficient_1 = mean1/sigma_squared  #coefficient of x in the final expression of g1(x)\n",
    "x_coefficient_1"
   ]
  },
  {
   "cell_type": "code",
   "execution_count": 11,
   "id": "e16e40af-5fe0-46d6-a374-9a5d411150f0",
   "metadata": {},
   "outputs": [
    {
     "data": {
      "text/plain": [
       "c1    1.125\n",
       "c2   -0.750\n",
       "dtype: float64"
      ]
     },
     "execution_count": 11,
     "metadata": {},
     "output_type": "execute_result"
    }
   ],
   "source": [
    "x_coefficient_2 = mean2/sigma_squared  #coefficient of x in the final expression of g2(x)\n",
    "x_coefficient_2"
   ]
  },
  {
   "cell_type": "code",
   "execution_count": 12,
   "id": "ce39ff07-54d5-44b3-a573-bc01dfa807ec",
   "metadata": {},
   "outputs": [
    {
     "data": {
      "text/plain": [
       "np.float64(-8.4375)"
      ]
     },
     "execution_count": 12,
     "metadata": {},
     "output_type": "execute_result"
    }
   ],
   "source": [
    "constant_1 = np.matmul(mean1.transpose(),mean1)/(sigma_squared*-2)  #constant term in g1(x)\n",
    "constant_1"
   ]
  },
  {
   "cell_type": "code",
   "execution_count": 13,
   "id": "57e83f58-7db5-47f1-88b7-5468af1f7bcb",
   "metadata": {},
   "outputs": [
    {
     "data": {
      "text/plain": [
       "np.float64(-2.4375)"
      ]
     },
     "execution_count": 13,
     "metadata": {},
     "output_type": "execute_result"
    }
   ],
   "source": [
    "constant_2 = np.matmul(mean2.transpose(),mean2)/(sigma_squared*-2)   #constant term in g2(x)\n",
    "constant_2"
   ]
  },
  {
   "cell_type": "code",
   "execution_count": 14,
   "id": "dde3b30a-13f3-4595-9db5-309bcc2e20e2",
   "metadata": {},
   "outputs": [
    {
     "data": {
      "text/plain": [
       "np.float64(0.0)"
      ]
     },
     "execution_count": 14,
     "metadata": {},
     "output_type": "execute_result"
    }
   ],
   "source": [
    "final_x1_coefficient = x_coefficient_1[\"c1\"] - x_coefficient_2[\"c1\"]   #resultant x1 coefficient in g(x)\n",
    "final_x1_coefficient"
   ]
  },
  {
   "cell_type": "code",
   "execution_count": 15,
   "id": "4cf8a307-f194-4c98-bded-079f706abdef",
   "metadata": {},
   "outputs": [
    {
     "data": {
      "text/plain": [
       "np.float64(3.0)"
      ]
     },
     "execution_count": 15,
     "metadata": {},
     "output_type": "execute_result"
    }
   ],
   "source": [
    "final_x2_coefficient = x_coefficient_1[\"c2\"] - x_coefficient_2[\"c2\"]   #resultant x1 coefficient in g(x)\n",
    "final_x2_coefficient"
   ]
  },
  {
   "cell_type": "code",
   "execution_count": 16,
   "id": "08b28ac8-5a4e-4ba7-b7aa-47a25d6c63a8",
   "metadata": {},
   "outputs": [
    {
     "data": {
      "text/plain": [
       "np.float64(-6.0)"
      ]
     },
     "execution_count": 16,
     "metadata": {},
     "output_type": "execute_result"
    }
   ],
   "source": [
    "final_constant = constant_1 - constant_2    #final constant value in g(x)\n",
    "final_constant"
   ]
  },
  {
   "cell_type": "markdown",
   "id": "f2b655c9-079f-45c4-8b32-c21e7aadbb38",
   "metadata": {},
   "source": [
    "## OBTAINING EQUATION OF DECISION BOUNDARY AND PLOTTING"
   ]
  },
  {
   "cell_type": "code",
   "execution_count": 17,
   "id": "cc5fc081-6449-4db5-b002-88a26b01ae7c",
   "metadata": {},
   "outputs": [
    {
     "name": "stdout",
     "output_type": "stream",
     "text": [
      "The equation of the decision boundary is -3.0x2 = 0.0x1 + -6.0\n"
     ]
    }
   ],
   "source": [
    "print(f\"The equation of the decision boundary is {-1*final_x2_coefficient}x2 = {final_x1_coefficient}x1 + {final_constant}\")"
   ]
  },
  {
   "cell_type": "code",
   "execution_count": 18,
   "id": "b20ddc0d-7813-4971-afc5-fa7f632efd38",
   "metadata": {},
   "outputs": [
    {
     "data": {
      "image/png": "[encoded data removed]",
      "text/plain": [
       "<Figure size 640x480 with 1 Axes>"
      ]
     },
     "metadata": {},
     "output_type": "display_data"
    }
   ],
   "source": [
    "fig, ax = plt.subplots()\n",
    "\n",
    "\n",
    "df1.plot(kind=\"scatter\", x=\"c1\", y=\"c2\", color='blue', label='df1', ax=ax)\n",
    "\n",
    "\n",
    "df2.plot(kind=\"scatter\", x=\"c1\", y=\"c2\", color='red', label='df2', ax=ax)\n",
    "\n",
    "x = [1,5]\n",
    "y = [2,2]  #equation of line is y = 2, which is a constant boundary\n",
    "\n",
    "\n",
    "plt.plot(x,y,color=\"purple\",label=\"decision_boundary\")\n",
    "\n",
    "plt.legend()\n",
    "\n",
    "plt.show()"
   ]
  },
  {
   "cell_type": "code",
   "execution_count": 19,
   "id": "5edb9fbb-42ca-448b-8fef-35c375d4b66f",
   "metadata": {},
   "outputs": [
    {
     "data": {
      "text/plain": [
       "'THE GIVEN EXAMPLE FALLS UNDER CASE 1 OF THE BAYES DECISION THEORY AS THE COVARIANCE MATRICES ARE OF THE FORM\\n2.6665I .  '"
      ]
     },
     "execution_count": 19,
     "metadata": {},
     "output_type": "execute_result"
    }
   ],
   "source": [
    "'''THE GIVEN EXAMPLE FALLS UNDER CASE 1 OF THE BAYES DECISION THEORY AS THE COVARIANCE MATRICES ARE OF THE FORM\n",
    "2.6665I .  '''"
   ]
  },
  {
   "cell_type": "code",
   "execution_count": null,
   "id": "e9ef62e0-d8d6-4572-ab58-7d1721fecbb7",
   "metadata": {},
   "outputs": [],
   "source": []
  }
 ],
 "metadata": {
  "kernelspec": {
   "display_name": "Python 3 (ipykernel)",
   "language": "python",
   "name": "python3"
  },
  "language_info": {
   "codemirror_mode": {
    "name": "ipython",
    "version": 3
   },
   "file_extension": ".py",
   "mimetype": "text/x-python",
   "name": "python",
   "nbconvert_exporter": "python",
   "pygments_lexer": "ipython3",
   "version": "3.13.1"
  }
 },
 "nbformat": 4,
 "nbformat_minor": 5
}
